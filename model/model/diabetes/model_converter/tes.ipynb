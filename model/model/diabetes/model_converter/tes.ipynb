{
 "cells": [
  {
   "cell_type": "markdown",
   "id": "256bed5b-231b-4e9b-909a-0c9113bfe782",
   "metadata": {},
   "source": [
    "# MODEL DIABETES"
   ]
  },
  {
   "cell_type": "code",
   "execution_count": 15,
   "id": "4b5d26f1-5501-4056-accb-2b296e231042",
   "metadata": {},
   "outputs": [],
   "source": [
    "import pandas as pd\n",
    "import numpy as np\n",
    "import matplotlib.pyplot as plt\n",
    "import seaborn as sns\n",
    "import tensorflow as tf\n",
    "import matplotlib.pyplot as plt\n",
    "from tensorflow.keras import layers\n",
    "from sklearn.model_selection import train_test_split\n",
    "from sklearn.preprocessing import MinMaxScaler"
   ]
  },
  {
   "cell_type": "code",
   "execution_count": 2,
   "id": "4c00069f-f4ec-4fb3-96e2-8b119a860f36",
   "metadata": {},
   "outputs": [],
   "source": [
    "df1 = pd.read_csv('../data/diabetes/diabetes_012_health_indicators_BRFSS2015.csv')\n",
    "df2 = pd.read_csv('../data/diabetes/diabetes_binary_5050split_health_indicators_BRFSS2015.csv')\n",
    "df3 = pd.read_csv('../data/diabetes/diabetes_binary_health_indicators_BRFSS2015.csv')"
   ]
  },
  {
   "cell_type": "code",
   "execution_count": 3,
   "id": "4c0f13bb-576c-43d1-a359-e50413fb1b3e",
   "metadata": {},
   "outputs": [],
   "source": [
    "df1 = df1.drop(columns=['HighBP','HighChol','CholCheck','Stroke','HeartDiseaseorAttack','Fruits','AnyHealthcare','NoDocbcCost','GenHlth','MentHlth','PhysHlth','DiffWalk','Education','Income'])"
   ]
  },
  {
   "cell_type": "code",
   "execution_count": 4,
   "id": "d4229eef-579c-4178-9300-bb220519fe10",
   "metadata": {},
   "outputs": [],
   "source": [
    "df1.rename(columns={'Diabetes_012': 'Diabetes_binary'}, inplace=True)"
   ]
  },
  {
   "cell_type": "code",
   "execution_count": 5,
   "id": "3be9c440-ee27-4cae-8ded-ff14cd3cb21b",
   "metadata": {},
   "outputs": [],
   "source": [
    "df2 = df2.drop(columns=['HighBP','HighChol','CholCheck','Stroke','HeartDiseaseorAttack','Fruits','AnyHealthcare','NoDocbcCost','GenHlth','MentHlth','PhysHlth','DiffWalk','Education','Income'])"
   ]
  },
  {
   "cell_type": "code",
   "execution_count": 6,
   "id": "3c6163b4-91dd-405c-b23e-44763655e9d3",
   "metadata": {},
   "outputs": [],
   "source": [
    "df3 = df3.drop(columns=['HighBP','HighChol','CholCheck','Stroke','HeartDiseaseorAttack','Fruits','AnyHealthcare','NoDocbcCost','GenHlth','MentHlth','PhysHlth','DiffWalk','Education','Income'])"
   ]
  },
  {
   "cell_type": "code",
   "execution_count": 7,
   "id": "9d8beebd-84fa-455a-8c5b-d5c4a114fe3c",
   "metadata": {},
   "outputs": [
    {
     "name": "stderr",
     "output_type": "stream",
     "text": [
      "C:\\Users\\ASUS\\AppData\\Local\\Temp\\ipykernel_31924\\3702795627.py:1: FutureWarning: A value is trying to be set on a copy of a DataFrame or Series through chained assignment using an inplace method.\n",
      "The behavior will change in pandas 3.0. This inplace method will never work because the intermediate object on which we are setting values always behaves as a copy.\n",
      "\n",
      "For example, when doing 'df[col].method(value, inplace=True)', try using 'df.method({col: value}, inplace=True)' or df[col] = df[col].method(value) instead, to perform the operation inplace on the original object.\n",
      "\n",
      "\n",
      "  df1['Diabetes_binary'].replace(2, 1, inplace=True)\n"
     ]
    }
   ],
   "source": [
    "df1['Diabetes_binary'].replace(2, 1, inplace=True)"
   ]
  },
  {
   "cell_type": "code",
   "execution_count": 8,
   "id": "cbd53153-57e2-44fe-a6b1-41acfdfa9602",
   "metadata": {},
   "outputs": [
    {
     "name": "stdout",
     "output_type": "stream",
     "text": [
      "<class 'pandas.core.frame.DataFrame'>\n",
      "RangeIndex: 253680 entries, 0 to 253679\n",
      "Data columns (total 8 columns):\n",
      " #   Column             Non-Null Count   Dtype  \n",
      "---  ------             --------------   -----  \n",
      " 0   Diabetes_binary    253680 non-null  float64\n",
      " 1   BMI                253680 non-null  float64\n",
      " 2   Smoker             253680 non-null  float64\n",
      " 3   PhysActivity       253680 non-null  float64\n",
      " 4   Veggies            253680 non-null  float64\n",
      " 5   HvyAlcoholConsump  253680 non-null  float64\n",
      " 6   Sex                253680 non-null  float64\n",
      " 7   Age                253680 non-null  float64\n",
      "dtypes: float64(8)\n",
      "memory usage: 15.5 MB\n"
     ]
    }
   ],
   "source": [
    "df1.info()"
   ]
  },
  {
   "cell_type": "code",
   "execution_count": 9,
   "id": "1e93b855-12c7-4c4f-9cf5-648d5ad21223",
   "metadata": {},
   "outputs": [
    {
     "data": {
      "text/plain": [
       "array([0., 1.])"
      ]
     },
     "execution_count": 9,
     "metadata": {},
     "output_type": "execute_result"
    }
   ],
   "source": [
    "df1['Diabetes_binary'].unique()"
   ]
  },
  {
   "cell_type": "code",
   "execution_count": 10,
   "id": "b4433e3c-c088-4b6f-9cfa-30dd2c514aee",
   "metadata": {},
   "outputs": [
    {
     "name": "stdout",
     "output_type": "stream",
     "text": [
      "<class 'pandas.core.frame.DataFrame'>\n",
      "RangeIndex: 70692 entries, 0 to 70691\n",
      "Data columns (total 8 columns):\n",
      " #   Column             Non-Null Count  Dtype  \n",
      "---  ------             --------------  -----  \n",
      " 0   Diabetes_binary    70692 non-null  float64\n",
      " 1   BMI                70692 non-null  float64\n",
      " 2   Smoker             70692 non-null  float64\n",
      " 3   PhysActivity       70692 non-null  float64\n",
      " 4   Veggies            70692 non-null  float64\n",
      " 5   HvyAlcoholConsump  70692 non-null  float64\n",
      " 6   Sex                70692 non-null  float64\n",
      " 7   Age                70692 non-null  float64\n",
      "dtypes: float64(8)\n",
      "memory usage: 4.3 MB\n"
     ]
    }
   ],
   "source": [
    "df2.info()"
   ]
  },
  {
   "cell_type": "code",
   "execution_count": 11,
   "id": "e1aa4cce-3d29-44e4-b28e-e06f38d19f0b",
   "metadata": {},
   "outputs": [
    {
     "name": "stdout",
     "output_type": "stream",
     "text": [
      "<class 'pandas.core.frame.DataFrame'>\n",
      "RangeIndex: 253680 entries, 0 to 253679\n",
      "Data columns (total 8 columns):\n",
      " #   Column             Non-Null Count   Dtype  \n",
      "---  ------             --------------   -----  \n",
      " 0   Diabetes_binary    253680 non-null  float64\n",
      " 1   BMI                253680 non-null  float64\n",
      " 2   Smoker             253680 non-null  float64\n",
      " 3   PhysActivity       253680 non-null  float64\n",
      " 4   Veggies            253680 non-null  float64\n",
      " 5   HvyAlcoholConsump  253680 non-null  float64\n",
      " 6   Sex                253680 non-null  float64\n",
      " 7   Age                253680 non-null  float64\n",
      "dtypes: float64(8)\n",
      "memory usage: 15.5 MB\n"
     ]
    }
   ],
   "source": [
    "df3.info()"
   ]
  },
  {
   "cell_type": "code",
   "execution_count": 16,
   "id": "7e33b1a7-908a-4356-84bb-d3474ef293d6",
   "metadata": {},
   "outputs": [
    {
     "name": "stdout",
     "output_type": "stream",
     "text": [
      "   Diabetes_binary   BMI  Smoker  PhysActivity  Veggies  HvyAlcoholConsump  \\\n",
      "0              0.0  40.0     1.0           0.0      1.0                0.0   \n",
      "1              0.0  25.0     1.0           1.0      0.0                0.0   \n",
      "2              0.0  28.0     0.0           0.0      0.0                0.0   \n",
      "3              0.0  27.0     0.0           1.0      1.0                0.0   \n",
      "4              0.0  24.0     0.0           1.0      1.0                0.0   \n",
      "\n",
      "   Sex   Age  \n",
      "0  0.0   9.0  \n",
      "1  0.0   7.0  \n",
      "2  0.0   9.0  \n",
      "3  0.0  11.0  \n",
      "4  0.0  11.0  \n"
     ]
    }
   ],
   "source": [
    "df_overall = pd.concat([df1, df2, df3], ignore_index=True)\n",
    "print(df_overall.head())"
   ]
  },
  {
   "cell_type": "code",
   "execution_count": 17,
   "id": "607012cb",
   "metadata": {},
   "outputs": [
    {
     "name": "stdout",
     "output_type": "stream",
     "text": [
      "Kolom Diabetes_binary: [0. 1.]\n",
      "Kolom BMI: [40. 25. 28. 27. 24. 30. 34. 26. 33. 21. 23. 22. 38. 32. 37. 31. 29. 20.\n",
      " 35. 45. 39. 19. 47. 18. 36. 43. 55. 49. 42. 17. 16. 41. 44. 50. 59. 48.\n",
      " 52. 46. 54. 57. 53. 14. 15. 51. 58. 63. 61. 56. 74. 62. 64. 66. 73. 85.\n",
      " 60. 67. 65. 70. 82. 79. 92. 68. 72. 88. 96. 13. 81. 71. 75. 12. 77. 69.\n",
      " 76. 87. 89. 84. 95. 98. 91. 86. 83. 80. 90. 78.]\n",
      "Kolom Smoker: [1. 0.]\n",
      "Kolom PhysActivity: [0. 1.]\n",
      "Kolom Veggies: [1. 0.]\n",
      "Kolom HvyAlcoholConsump: [0. 1.]\n",
      "Kolom Sex: [0. 1.]\n",
      "Kolom Age: [ 9.  7. 11. 10.  8. 13.  4.  6.  2. 12.  5.  1.  3.]\n"
     ]
    }
   ],
   "source": [
    "for column in df_overall.columns:\n",
    "    print(f\"Kolom {column}: {df_overall[column].unique()}\")"
   ]
  },
  {
   "cell_type": "code",
   "execution_count": 25,
   "id": "3c8463aa",
   "metadata": {},
   "outputs": [
    {
     "name": "stdout",
     "output_type": "stream",
     "text": [
      "Kolom Diabetes_binary: [0. 1.]\n",
      "Kolom BMI: [0.3255814  0.15116279 0.18604651 0.1744186  0.13953488 0.20930233\n",
      " 0.25581395 0.1627907  0.24418605 0.10465116 0.12790698 0.11627907\n",
      " 0.30232558 0.23255814 0.29069767 0.22093023 0.19767442 0.09302326\n",
      " 0.26744186 0.38372093 0.31395349 0.08139535 0.40697674 0.06976744\n",
      " 0.27906977 0.36046512 0.5        0.43023256 0.34883721 0.05813953\n",
      " 0.04651163 0.3372093  0.37209302 0.44186047 0.54651163 0.41860465\n",
      " 0.46511628 0.39534884 0.48837209 0.52325581 0.47674419 0.02325581\n",
      " 0.03488372 0.45348837 0.53488372 0.59302326 0.56976744 0.51162791\n",
      " 0.72093023 0.58139535 0.60465116 0.62790698 0.70930233 0.84883721\n",
      " 0.55813953 0.63953488 0.61627907 0.6744186  0.81395349 0.77906977\n",
      " 0.93023256 0.65116279 0.69767442 0.88372093 0.97674419 0.01162791\n",
      " 0.80232558 0.68604651 0.73255814 0.         0.75581395 0.6627907\n",
      " 0.74418605 0.87209302 0.89534884 0.8372093  0.96511628 1.\n",
      " 0.91860465 0.86046512 0.8255814  0.79069767 0.90697674 0.76744186]\n",
      "Kolom Smoker: [1. 0.]\n",
      "Kolom PhysActivity: [0. 1.]\n",
      "Kolom Veggies: [1. 0.]\n",
      "Kolom HvyAlcoholConsump: [0. 1.]\n",
      "Kolom Sex: [0. 1.]\n",
      "Kolom Age: [0.66666667 0.5        0.83333333 0.75       0.58333333 1.\n",
      " 0.25       0.41666667 0.08333333 0.91666667 0.33333333 0.\n",
      " 0.16666667]\n"
     ]
    }
   ],
   "source": [
    "scaler = MinMaxScaler()\n",
    "df_normalized = df_overall.copy()\n",
    "df_normalized[['BMI', 'Age']] = scaler.fit_transform(df_overall[['BMI', 'Age']])\n",
    "\n",
    "for column in df_normalized.columns:\n",
    "    print(f\"Kolom {column}: {df_normalized[column].unique()}\")"
   ]
  },
  {
   "cell_type": "code",
   "execution_count": 62,
   "id": "0dfd05e5-8c6b-4ef0-a447-6220e320d93a",
   "metadata": {},
   "outputs": [
    {
     "name": "stdout",
     "output_type": "stream",
     "text": [
      "Nilai unik pada kolom 'Diabetes_binary' dan jumlahnya:\n",
      "Diabetes_binary\n",
      "0.0    10585\n",
      "1.0     6079\n",
      "Name: count, dtype: int64\n",
      "16664\n"
     ]
    }
   ],
   "source": [
    "unique_values = df_normalized['Diabetes_binary'].value_counts()\n",
    "print(\"Nilai unik pada kolom 'Diabetes_binary' dan jumlahnya:\")\n",
    "print(unique_values)\n",
    "print(len(df_normalized))"
   ]
  },
  {
   "cell_type": "code",
   "execution_count": 73,
   "id": "d58ff81f",
   "metadata": {},
   "outputs": [
    {
     "name": "stdout",
     "output_type": "stream",
     "text": [
      "Nilai unik pada kolom 'Diabetes_binary' dan jumlahnya setelah diratakan:\n",
      "Diabetes_binary\n",
      "0.0    6079\n",
      "1.0    6079\n",
      "Name: count, dtype: int64\n",
      "12158\n"
     ]
    }
   ],
   "source": [
    "from sklearn.utils import resample\n",
    "df_majority = df_normalized[df_normalized['Diabetes_binary'] == 0.0]\n",
    "df_minority = df_normalized[df_normalized['Diabetes_binary'] == 1.0]\n",
    "df_majority_downsampled = resample(df_majority,\n",
    "                                   replace=False, \n",
    "                                   n_samples=len(df_minority),  \n",
    "                                   random_state=42) \n",
    "df_balanced = pd.concat([df_majority_downsampled, df_minority])\n",
    "unique_values_balanced = df_balanced['Diabetes_binary'].value_counts()\n",
    "print(\"Nilai unik pada kolom 'Diabetes_binary' dan jumlahnya setelah diratakan:\")\n",
    "print(unique_values_balanced)\n",
    "print(len(df_balanced))"
   ]
  },
  {
   "cell_type": "code",
   "execution_count": 75,
   "id": "0c44c5fb",
   "metadata": {},
   "outputs": [
    {
     "name": "stdout",
     "output_type": "stream",
     "text": [
      "Kolom 'Diabetes_binary' - Nilai unik: [0. 1.]\n",
      "Jumlah nilai unik di kolom 'Diabetes_binary': 2\n",
      "\n",
      "Kolom 'BMI' - Nilai unik: [0.19767442 0.39534884 0.31395349 0.04651163 0.1744186  0.3372093\n",
      " 0.87209302 0.12790698 0.25581395 0.08139535 0.38372093 0.22093023\n",
      " 0.34883721 0.46511628 0.23255814 0.48837209 0.30232558 0.09302326\n",
      " 0.27906977 0.15116279 0.26744186 0.36046512 0.11627907 0.43023256\n",
      " 0.20930233 0.77906977 0.10465116 0.18604651 0.         0.37209302\n",
      " 0.29069767 0.3255814  0.44186047 0.24418605 0.80232558 0.69767442\n",
      " 0.75581395 0.41860465 0.1627907  0.13953488 0.40697674 0.52325581\n",
      " 0.06976744 0.05813953 0.70930233 0.53488372 0.45348837 0.65116279\n",
      " 0.51162791 0.68604651 0.02325581 0.55813953 0.47674419 0.58139535\n",
      " 0.54651163 0.5        0.6744186  0.81395349 1.         0.8372093\n",
      " 0.60465116 0.59302326 0.03488372 0.56976744 0.63953488 0.89534884\n",
      " 0.01162791 0.96511628 0.72093023 0.73255814 0.6627907  0.93023256\n",
      " 0.61627907 0.79069767 0.88372093 0.86046512 0.62790698 0.74418605\n",
      " 0.84883721 0.97674419 0.8255814  0.76744186]\n",
      "Jumlah nilai unik di kolom 'BMI': 82\n",
      "\n",
      "Kolom 'Smoker' - Nilai unik: [1. 0.]\n",
      "Jumlah nilai unik di kolom 'Smoker': 2\n",
      "\n",
      "Kolom 'PhysActivity' - Nilai unik: [1. 0.]\n",
      "Jumlah nilai unik di kolom 'PhysActivity': 2\n",
      "\n",
      "Kolom 'Veggies' - Nilai unik: [1. 0.]\n",
      "Jumlah nilai unik di kolom 'Veggies': 2\n",
      "\n",
      "Kolom 'HvyAlcoholConsump' - Nilai unik: [1. 0.]\n",
      "Jumlah nilai unik di kolom 'HvyAlcoholConsump': 2\n",
      "\n",
      "Kolom 'Sex' - Nilai unik: [0. 1.]\n",
      "Jumlah nilai unik di kolom 'Sex': 2\n",
      "\n",
      "Kolom 'Age' - Nilai unik: [0.91666667 0.5        0.58333333 0.83333333 0.66666667 0.33333333\n",
      " 0.16666667 0.         0.41666667 0.75       1.         0.08333333\n",
      " 0.25      ]\n",
      "Jumlah nilai unik di kolom 'Age': 13\n",
      "\n"
     ]
    }
   ],
   "source": [
    "for column in df_balanced.columns.unique():\n",
    "    unique_values = df_balanced[column].unique()\n",
    "    print(f\"Kolom '{column}' - Nilai unik: {unique_values}\")\n",
    "    print(f\"Jumlah nilai unik di kolom '{column}': {len(unique_values)}\\n\")"
   ]
  },
  {
   "cell_type": "code",
   "execution_count": 66,
   "id": "75171a41-cd34-4204-8646-a9d50da4547c",
   "metadata": {},
   "outputs": [
    {
     "name": "stdout",
     "output_type": "stream",
     "text": [
      "Semua Kolom\n",
      "Index(['Diabetes_binary', 'BMI', 'Smoker', 'PhysActivity', 'Veggies',\n",
      "       'HvyAlcoholConsump', 'Sex', 'Age'],\n",
      "      dtype='object')\n",
      "Jumlah nilai null di setiap kolom:\n",
      "Diabetes_binary      0\n",
      "BMI                  0\n",
      "Smoker               0\n",
      "PhysActivity         0\n",
      "Veggies              0\n",
      "HvyAlcoholConsump    0\n",
      "Sex                  0\n",
      "Age                  0\n",
      "dtype: int64\n",
      "Jumlah baris duplikat: 0\n"
     ]
    }
   ],
   "source": [
    "print('Semua Kolom')\n",
    "print(df_overall.columns)\n",
    "print(\"Jumlah nilai null di setiap kolom:\")\n",
    "print(df_overall.isnull().sum())\n",
    "duplicate_rows = df_normalized.duplicated().sum()\n",
    "print(f\"Jumlah baris duplikat: {duplicate_rows}\")"
   ]
  },
  {
   "cell_type": "code",
   "execution_count": null,
   "id": "7c4ac9bf-c19d-47a3-bffb-3cbe592b4913",
   "metadata": {},
   "outputs": [
    {
     "name": "stdout",
     "output_type": "stream",
     "text": [
      "Jumlah baris duplikat setelah penghapusan: 0\n"
     ]
    },
    {
     "data": {
      "text/plain": [
       "16664"
      ]
     },
     "execution_count": 31,
     "metadata": {},
     "output_type": "execute_result"
    }
   ],
   "source": [
    "df_normalized = df_normalized.drop_duplicates()\n",
    "duplicate_rows_after = df_normalized.duplicated().sum()\n",
    "print(f\"Jumlah baris duplikat setelah penghapusan: {duplicate_rows_after}\")\n",
    "len(df_normalized)"
   ]
  },
  {
   "cell_type": "markdown",
   "id": "fd4e6573-da21-45f3-b650-7e2b3f570078",
   "metadata": {
    "jp-MarkdownHeadingCollapsed": true
   },
   "source": [
    "## Heatmap"
   ]
  },
  {
   "cell_type": "code",
   "execution_count": 34,
   "id": "54e332c2-e873-406b-a9bf-ca499b3e1630",
   "metadata": {},
   "outputs": [
    {
     "data": {
      "image/png": "[encoded data removed]",
      "text/plain": [
       "<Figure size 1600x1200 with 2 Axes>"
      ]
     },
     "metadata": {},
     "output_type": "display_data"
    }
   ],
   "source": [
    "corr_matrix = df_overall.corr()\n",
    "plt.figure(figsize=(16, 12))\n",
    "sns.heatmap(corr_matrix, annot=True, cmap='coolwarm', linewidths=0.5, square=True)\n",
    "plt.xticks(rotation=45, ha='right')\n",
    "plt.title('Matriks Korelasi dari Fitur yang Dipilih', fontsize=14)\n",
    "plt.show()"
   ]
  },
  {
   "cell_type": "code",
   "execution_count": null,
   "id": "0c567b4b-f0a4-412d-bc5c-04b9f7350105",
   "metadata": {},
   "outputs": [
    {
     "data": {
      "text/html": [
       "<div>\n",
       "<style scoped>\n",
       "    .dataframe tbody tr th:only-of-type {\n",
       "        vertical-align: middle;\n",
       "    }\n",
       "\n",
       "    .dataframe tbody tr th {\n",
       "        vertical-align: top;\n",
       "    }\n",
       "\n",
       "    .dataframe thead th {\n",
       "        text-align: right;\n",
       "    }\n",
       "</style>\n",
       "<table border=\"1\" class=\"dataframe\">\n",
       "  <thead>\n",
       "    <tr style=\"text-align: right;\">\n",
       "      <th></th>\n",
       "      <th>Column</th>\n",
       "      <th>Max</th>\n",
       "      <th>Min</th>\n",
       "    </tr>\n",
       "  </thead>\n",
       "  <tbody>\n",
       "    <tr>\n",
       "      <th>0</th>\n",
       "      <td>Diabetes_binary</td>\n",
       "      <td>1.0</td>\n",
       "      <td>0.0</td>\n",
       "    </tr>\n",
       "    <tr>\n",
       "      <th>1</th>\n",
       "      <td>BMI</td>\n",
       "      <td>1.0</td>\n",
       "      <td>0.0</td>\n",
       "    </tr>\n",
       "    <tr>\n",
       "      <th>2</th>\n",
       "      <td>Smoker</td>\n",
       "      <td>1.0</td>\n",
       "      <td>0.0</td>\n",
       "    </tr>\n",
       "    <tr>\n",
       "      <th>3</th>\n",
       "      <td>PhysActivity</td>\n",
       "      <td>1.0</td>\n",
       "      <td>0.0</td>\n",
       "    </tr>\n",
       "    <tr>\n",
       "      <th>4</th>\n",
       "      <td>Veggies</td>\n",
       "      <td>1.0</td>\n",
       "      <td>0.0</td>\n",
       "    </tr>\n",
       "    <tr>\n",
       "      <th>5</th>\n",
       "      <td>HvyAlcoholConsump</td>\n",
       "      <td>1.0</td>\n",
       "      <td>0.0</td>\n",
       "    </tr>\n",
       "    <tr>\n",
       "      <th>6</th>\n",
       "      <td>Sex</td>\n",
       "      <td>1.0</td>\n",
       "      <td>0.0</td>\n",
       "    </tr>\n",
       "    <tr>\n",
       "      <th>7</th>\n",
       "      <td>Age</td>\n",
       "      <td>1.0</td>\n",
       "      <td>0.0</td>\n",
       "    </tr>\n",
       "  </tbody>\n",
       "</table>\n",
       "</div>"
      ],
      "text/plain": [
       "              Column  Max  Min\n",
       "0    Diabetes_binary  1.0  0.0\n",
       "1                BMI  1.0  0.0\n",
       "2             Smoker  1.0  0.0\n",
       "3       PhysActivity  1.0  0.0\n",
       "4            Veggies  1.0  0.0\n",
       "5  HvyAlcoholConsump  1.0  0.0\n",
       "6                Sex  1.0  0.0\n",
       "7                Age  1.0  0.0"
      ]
     },
     "execution_count": 36,
     "metadata": {},
     "output_type": "execute_result"
    }
   ],
   "source": [
    "summary_df = pd.DataFrame({\n",
    "    'Column': df_overall.columns,\n",
    "    'Max': df_overall.max().values,\n",
    "    'Min': df_overall.min().values\n",
    "})\n",
    "summary_df"
   ]
  },
  {
   "cell_type": "code",
   "execution_count": 37,
   "id": "0c1b0ba9-b86b-4539-9b6b-010e37f737e2",
   "metadata": {},
   "outputs": [
    {
     "name": "stdout",
     "output_type": "stream",
     "text": [
      "df1\n",
      "Diabetes_binary: [0. 1.]\n",
      "BMI: [40. 25. 28. 27. 24. 30. 34. 26. 33. 21. 23. 22. 38. 32. 37. 31. 29. 20.\n",
      " 35. 45. 39. 19. 47. 18. 36. 43. 55. 49. 42. 17. 16. 41. 44. 50. 59. 48.\n",
      " 52. 46. 54. 57. 53. 14. 15. 51. 58. 63. 61. 56. 74. 62. 64. 66. 73. 85.\n",
      " 60. 67. 65. 70. 82. 79. 92. 68. 72. 88. 96. 13. 81. 71. 75. 12. 77. 69.\n",
      " 76. 87. 89. 84. 95. 98. 91. 86. 83. 80. 90. 78.]\n",
      "Smoker: [1. 0.]\n",
      "PhysActivity: [0. 1.]\n",
      "Veggies: [1. 0.]\n",
      "HvyAlcoholConsump: [0. 1.]\n",
      "Sex: [0. 1.]\n",
      "Age: [ 9.  7. 11. 10.  8. 13.  4.  6.  2. 12.  5.  1.  3.]\n"
     ]
    }
   ],
   "source": [
    "print('df1')\n",
    "for col in df_overall.columns:\n",
    "    print(f\"{col}: {df_overall[col].unique()}\")"
   ]
  },
  {
   "cell_type": "markdown",
   "id": "165553b7-f4cc-4322-b967-8b3a709f734a",
   "metadata": {},
   "source": [
    "## SPLIT DATA"
   ]
  },
  {
   "cell_type": "code",
   "execution_count": 76,
   "id": "8c4fe48e-1410-464f-93e0-919ef604415e",
   "metadata": {},
   "outputs": [
    {
     "name": "stdout",
     "output_type": "stream",
     "text": [
      "x_train shape: (9726, 7), y_train shape: (9726, 1)\n",
      "x_cv shape: (2432, 7), y_cv shape: (2432, 1)\n"
     ]
    }
   ],
   "source": [
    "data_array = df_balanced.to_numpy()\n",
    "labels = data_array[:, 0]  \n",
    "features = data_array[:, 1:]\n",
    "x_train, x_cv, y_train, y_cv = train_test_split(features, labels, test_size=0.2, random_state=42)\n",
    "y_train = y_train.reshape(-1, 1)\n",
    "y_cv = y_cv.reshape(-1, 1)\n",
    "print(f\"x_train shape: {x_train.shape}, y_train shape: {y_train.shape}\")\n",
    "print(f\"x_cv shape: {x_cv.shape}, y_cv shape: {y_cv.shape}\")"
   ]
  },
  {
   "cell_type": "code",
   "execution_count": 77,
   "id": "37bd5b48-825c-4c52-b55d-1130d5505615",
   "metadata": {},
   "outputs": [
    {
     "data": {
      "text/plain": [
       "['Diabetes_binary',\n",
       " 'BMI',\n",
       " 'Smoker',\n",
       " 'PhysActivity',\n",
       " 'Veggies',\n",
       " 'HvyAlcoholConsump',\n",
       " 'Sex',\n",
       " 'Age']"
      ]
     },
     "execution_count": 77,
     "metadata": {},
     "output_type": "execute_result"
    }
   ],
   "source": [
    "df_normalized.columns.tolist()"
   ]
  },
  {
   "cell_type": "code",
   "execution_count": 78,
   "id": "7ab360cd-50ec-48fe-819d-a0f1b74c1083",
   "metadata": {},
   "outputs": [
    {
     "name": "stderr",
     "output_type": "stream",
     "text": [
      "c:\\Users\\ASUS\\AppData\\Local\\Programs\\Python\\Python312\\Lib\\site-packages\\keras\\src\\layers\\core\\input_layer.py:26: UserWarning: Argument `input_shape` is deprecated. Use `shape` instead.\n",
      "  warnings.warn(\n"
     ]
    }
   ],
   "source": [
    "model = tf.keras.Sequential([\n",
    "    layers.InputLayer(input_shape=(x_train.shape[1],)),\n",
    "    layers.Dense(128, activation='relu'),\n",
    "    layers.Dropout(0.3),\n",
    "    layers.Dense(256, activation='relu'),\n",
    "    layers.Dropout(0.3),\n",
    "    layers.Dense(512, activation='relu'),\n",
    "    layers.Dropout(0.3),\n",
    "    layers.Dense(1, activation='sigmoid')\n",
    "])"
   ]
  },
  {
   "cell_type": "code",
   "execution_count": 79,
   "id": "529ecfb2-7061-4950-8163-a7f9a2fed893",
   "metadata": {},
   "outputs": [],
   "source": [
    "optimizer = tf.keras.optimizers.Adam(learning_rate=0.0001)  \n",
    "model.compile(optimizer=optimizer, loss='binary_crossentropy', metrics=['accuracy'])"
   ]
  },
  {
   "cell_type": "code",
   "execution_count": 80,
   "id": "bf4c6161-69a4-4faf-b390-93e1283ee030",
   "metadata": {},
   "outputs": [
    {
     "name": "stdout",
     "output_type": "stream",
     "text": [
      "(9726, 1)\n",
      "(9726, 7)\n"
     ]
    }
   ],
   "source": [
    "print(y_train.shape)\n",
    "print(x_train.shape)"
   ]
  },
  {
   "cell_type": "code",
   "execution_count": 81,
   "id": "82675cec-bd97-4162-a9c9-e6cf9c97d15d",
   "metadata": {},
   "outputs": [],
   "source": [
    "from tensorflow.keras.callbacks import EarlyStopping\n",
    "early_stopping = EarlyStopping(monitor='val_loss', patience=20, restore_best_weights=True)"
   ]
  },
  {
   "cell_type": "code",
   "execution_count": 82,
   "id": "f0c97085-0375-492a-864e-ad9c7431dd42",
   "metadata": {},
   "outputs": [
    {
     "name": "stdout",
     "output_type": "stream",
     "text": [
      "Epoch 1/50\n",
      "\u001b[1m304/304\u001b[0m \u001b[32m━━━━━━━━━━━━━━━━━━━━\u001b[0m\u001b[37m\u001b[0m \u001b[1m1s\u001b[0m 2ms/step - accuracy: 0.5144 - loss: 0.6923 - val_accuracy: 0.6155 - val_loss: 0.6725\n",
      "Epoch 2/50\n",
      "\u001b[1m304/304\u001b[0m \u001b[32m━━━━━━━━━━━━━━━━━━━━\u001b[0m\u001b[37m\u001b[0m \u001b[1m0s\u001b[0m 1ms/step - accuracy: 0.6021 - loss: 0.6696 - val_accuracy: 0.6135 - val_loss: 0.6604\n",
      "Epoch 3/50\n",
      "\u001b[1m304/304\u001b[0m \u001b[32m━━━━━━━━━━━━━━━━━━━━\u001b[0m\u001b[37m\u001b[0m \u001b[1m0s\u001b[0m 1ms/step - accuracy: 0.6017 - loss: 0.6654 - val_accuracy: 0.6180 - val_loss: 0.6555\n",
      "Epoch 4/50\n",
      "\u001b[1m304/304\u001b[0m \u001b[32m━━━━━━━━━━━━━━━━━━━━\u001b[0m\u001b[37m\u001b[0m \u001b[1m0s\u001b[0m 1ms/step - accuracy: 0.6010 - loss: 0.6602 - val_accuracy: 0.6188 - val_loss: 0.6541\n",
      "Epoch 5/50\n",
      "\u001b[1m304/304\u001b[0m \u001b[32m━━━━━━━━━━━━━━━━━━━━\u001b[0m\u001b[37m\u001b[0m \u001b[1m0s\u001b[0m 1ms/step - accuracy: 0.6031 - loss: 0.6598 - val_accuracy: 0.6151 - val_loss: 0.6580\n",
      "Epoch 6/50\n",
      "\u001b[1m304/304\u001b[0m \u001b[32m━━━━━━━━━━━━━━━━━━━━\u001b[0m\u001b[37m\u001b[0m \u001b[1m0s\u001b[0m 1ms/step - accuracy: 0.6012 - loss: 0.6642 - val_accuracy: 0.6102 - val_loss: 0.6588\n",
      "Epoch 7/50\n",
      "\u001b[1m304/304\u001b[0m \u001b[32m━━━━━━━━━━━━━━━━━━━━\u001b[0m\u001b[37m\u001b[0m \u001b[1m0s\u001b[0m 1ms/step - accuracy: 0.6126 - loss: 0.6508 - val_accuracy: 0.6106 - val_loss: 0.6546\n",
      "Epoch 8/50\n",
      "\u001b[1m304/304\u001b[0m \u001b[32m━━━━━━━━━━━━━━━━━━━━\u001b[0m\u001b[37m\u001b[0m \u001b[1m0s\u001b[0m 1ms/step - accuracy: 0.6080 - loss: 0.6552 - val_accuracy: 0.6094 - val_loss: 0.6544\n",
      "Epoch 9/50\n",
      "\u001b[1m304/304\u001b[0m \u001b[32m━━━━━━━━━━━━━━━━━━━━\u001b[0m\u001b[37m\u001b[0m \u001b[1m0s\u001b[0m 1ms/step - accuracy: 0.6124 - loss: 0.6529 - val_accuracy: 0.6151 - val_loss: 0.6502\n",
      "Epoch 10/50\n",
      "\u001b[1m304/304\u001b[0m \u001b[32m━━━━━━━━━━━━━━━━━━━━\u001b[0m\u001b[37m\u001b[0m \u001b[1m0s\u001b[0m 1ms/step - accuracy: 0.6105 - loss: 0.6572 - val_accuracy: 0.6168 - val_loss: 0.6499\n",
      "Epoch 11/50\n",
      "\u001b[1m304/304\u001b[0m \u001b[32m━━━━━━━━━━━━━━━━━━━━\u001b[0m\u001b[37m\u001b[0m \u001b[1m1s\u001b[0m 2ms/step - accuracy: 0.6166 - loss: 0.6525 - val_accuracy: 0.6114 - val_loss: 0.6537\n",
      "Epoch 12/50\n",
      "\u001b[1m304/304\u001b[0m \u001b[32m━━━━━━━━━━━━━━━━━━━━\u001b[0m\u001b[37m\u001b[0m \u001b[1m1s\u001b[0m 2ms/step - accuracy: 0.6182 - loss: 0.6534 - val_accuracy: 0.6139 - val_loss: 0.6505\n",
      "Epoch 13/50\n",
      "\u001b[1m304/304\u001b[0m \u001b[32m━━━━━━━━━━━━━━━━━━━━\u001b[0m\u001b[37m\u001b[0m \u001b[1m1s\u001b[0m 2ms/step - accuracy: 0.6179 - loss: 0.6501 - val_accuracy: 0.6110 - val_loss: 0.6513\n",
      "Epoch 14/50\n",
      "\u001b[1m304/304\u001b[0m \u001b[32m━━━━━━━━━━━━━━━━━━━━\u001b[0m\u001b[37m\u001b[0m \u001b[1m1s\u001b[0m 2ms/step - accuracy: 0.6256 - loss: 0.6489 - val_accuracy: 0.6081 - val_loss: 0.6532\n",
      "Epoch 15/50\n",
      "\u001b[1m304/304\u001b[0m \u001b[32m━━━━━━━━━━━━━━━━━━━━\u001b[0m\u001b[37m\u001b[0m \u001b[1m1s\u001b[0m 2ms/step - accuracy: 0.6178 - loss: 0.6535 - val_accuracy: 0.6192 - val_loss: 0.6479\n",
      "Epoch 16/50\n",
      "\u001b[1m304/304\u001b[0m \u001b[32m━━━━━━━━━━━━━━━━━━━━\u001b[0m\u001b[37m\u001b[0m \u001b[1m0s\u001b[0m 2ms/step - accuracy: 0.6196 - loss: 0.6542 - val_accuracy: 0.6180 - val_loss: 0.6476\n",
      "Epoch 17/50\n",
      "\u001b[1m304/304\u001b[0m \u001b[32m━━━━━━━━━━━━━━━━━━━━\u001b[0m\u001b[37m\u001b[0m \u001b[1m1s\u001b[0m 2ms/step - accuracy: 0.6168 - loss: 0.6489 - val_accuracy: 0.6160 - val_loss: 0.6471\n",
      "Epoch 18/50\n",
      "\u001b[1m304/304\u001b[0m \u001b[32m━━━━━━━━━━━━━━━━━━━━\u001b[0m\u001b[37m\u001b[0m \u001b[1m0s\u001b[0m 2ms/step - accuracy: 0.6328 - loss: 0.6423 - val_accuracy: 0.6164 - val_loss: 0.6473\n",
      "Epoch 19/50\n",
      "\u001b[1m304/304\u001b[0m \u001b[32m━━━━━━━━━━━━━━━━━━━━\u001b[0m\u001b[37m\u001b[0m \u001b[1m0s\u001b[0m 2ms/step - accuracy: 0.6192 - loss: 0.6484 - val_accuracy: 0.6168 - val_loss: 0.6490\n",
      "Epoch 20/50\n",
      "\u001b[1m304/304\u001b[0m \u001b[32m━━━━━━━━━━━━━━━━━━━━\u001b[0m\u001b[37m\u001b[0m \u001b[1m1s\u001b[0m 2ms/step - accuracy: 0.6227 - loss: 0.6460 - val_accuracy: 0.6147 - val_loss: 0.6474\n",
      "Epoch 21/50\n",
      "\u001b[1m304/304\u001b[0m \u001b[32m━━━━━━━━━━━━━━━━━━━━\u001b[0m\u001b[37m\u001b[0m \u001b[1m0s\u001b[0m 2ms/step - accuracy: 0.6112 - loss: 0.6513 - val_accuracy: 0.6147 - val_loss: 0.6490\n",
      "Epoch 22/50\n",
      "\u001b[1m304/304\u001b[0m \u001b[32m━━━━━━━━━━━━━━━━━━━━\u001b[0m\u001b[37m\u001b[0m \u001b[1m1s\u001b[0m 2ms/step - accuracy: 0.6355 - loss: 0.6391 - val_accuracy: 0.6155 - val_loss: 0.6479\n",
      "Epoch 23/50\n",
      "\u001b[1m304/304\u001b[0m \u001b[32m━━━━━━━━━━━━━━━━━━━━\u001b[0m\u001b[37m\u001b[0m \u001b[1m1s\u001b[0m 2ms/step - accuracy: 0.6308 - loss: 0.6454 - val_accuracy: 0.6164 - val_loss: 0.6469\n",
      "Epoch 24/50\n",
      "\u001b[1m304/304\u001b[0m \u001b[32m━━━━━━━━━━━━━━━━━━━━\u001b[0m\u001b[37m\u001b[0m \u001b[1m0s\u001b[0m 2ms/step - accuracy: 0.6260 - loss: 0.6461 - val_accuracy: 0.6147 - val_loss: 0.6482\n",
      "Epoch 25/50\n",
      "\u001b[1m304/304\u001b[0m \u001b[32m━━━━━━━━━━━━━━━━━━━━\u001b[0m\u001b[37m\u001b[0m \u001b[1m0s\u001b[0m 2ms/step - accuracy: 0.6191 - loss: 0.6476 - val_accuracy: 0.6160 - val_loss: 0.6467\n",
      "Epoch 26/50\n",
      "\u001b[1m304/304\u001b[0m \u001b[32m━━━━━━━━━━━━━━━━━━━━\u001b[0m\u001b[37m\u001b[0m \u001b[1m0s\u001b[0m 2ms/step - accuracy: 0.6270 - loss: 0.6427 - val_accuracy: 0.6147 - val_loss: 0.6497\n",
      "Epoch 27/50\n",
      "\u001b[1m304/304\u001b[0m \u001b[32m━━━━━━━━━━━━━━━━━━━━\u001b[0m\u001b[37m\u001b[0m \u001b[1m0s\u001b[0m 2ms/step - accuracy: 0.6282 - loss: 0.6429 - val_accuracy: 0.6164 - val_loss: 0.6460\n",
      "Epoch 28/50\n",
      "\u001b[1m304/304\u001b[0m \u001b[32m━━━━━━━━━━━━━━━━━━━━\u001b[0m\u001b[37m\u001b[0m \u001b[1m0s\u001b[0m 1ms/step - accuracy: 0.6248 - loss: 0.6449 - val_accuracy: 0.6139 - val_loss: 0.6480\n",
      "Epoch 29/50\n",
      "\u001b[1m304/304\u001b[0m \u001b[32m━━━━━━━━━━━━━━━━━━━━\u001b[0m\u001b[37m\u001b[0m \u001b[1m0s\u001b[0m 1ms/step - accuracy: 0.6309 - loss: 0.6370 - val_accuracy: 0.6155 - val_loss: 0.6487\n",
      "Epoch 30/50\n",
      "\u001b[1m304/304\u001b[0m \u001b[32m━━━━━━━━━━━━━━━━━━━━\u001b[0m\u001b[37m\u001b[0m \u001b[1m0s\u001b[0m 1ms/step - accuracy: 0.6302 - loss: 0.6412 - val_accuracy: 0.6151 - val_loss: 0.6464\n",
      "Epoch 31/50\n",
      "\u001b[1m304/304\u001b[0m \u001b[32m━━━━━━━━━━━━━━━━━━━━\u001b[0m\u001b[37m\u001b[0m \u001b[1m0s\u001b[0m 1ms/step - accuracy: 0.6231 - loss: 0.6414 - val_accuracy: 0.6155 - val_loss: 0.6476\n",
      "Epoch 32/50\n",
      "\u001b[1m304/304\u001b[0m \u001b[32m━━━━━━━━━━━━━━━━━━━━\u001b[0m\u001b[37m\u001b[0m \u001b[1m0s\u001b[0m 1ms/step - accuracy: 0.6229 - loss: 0.6448 - val_accuracy: 0.6168 - val_loss: 0.6473\n",
      "Epoch 33/50\n",
      "\u001b[1m304/304\u001b[0m \u001b[32m━━━━━━━━━━━━━━━━━━━━\u001b[0m\u001b[37m\u001b[0m \u001b[1m0s\u001b[0m 2ms/step - accuracy: 0.6313 - loss: 0.6447 - val_accuracy: 0.6168 - val_loss: 0.6465\n",
      "Epoch 34/50\n",
      "\u001b[1m304/304\u001b[0m \u001b[32m━━━━━━━━━━━━━━━━━━━━\u001b[0m\u001b[37m\u001b[0m \u001b[1m1s\u001b[0m 2ms/step - accuracy: 0.6387 - loss: 0.6357 - val_accuracy: 0.6192 - val_loss: 0.6452\n",
      "Epoch 35/50\n",
      "\u001b[1m304/304\u001b[0m \u001b[32m━━━━━━━━━━━━━━━━━━━━\u001b[0m\u001b[37m\u001b[0m \u001b[1m0s\u001b[0m 1ms/step - accuracy: 0.6221 - loss: 0.6444 - val_accuracy: 0.6155 - val_loss: 0.6496\n",
      "Epoch 36/50\n",
      "\u001b[1m304/304\u001b[0m \u001b[32m━━━━━━━━━━━━━━━━━━━━\u001b[0m\u001b[37m\u001b[0m \u001b[1m1s\u001b[0m 2ms/step - accuracy: 0.6275 - loss: 0.6431 - val_accuracy: 0.6176 - val_loss: 0.6461\n",
      "Epoch 37/50\n",
      "\u001b[1m304/304\u001b[0m \u001b[32m━━━━━━━━━━━━━━━━━━━━\u001b[0m\u001b[37m\u001b[0m \u001b[1m1s\u001b[0m 2ms/step - accuracy: 0.6296 - loss: 0.6392 - val_accuracy: 0.6192 - val_loss: 0.6455\n",
      "Epoch 38/50\n",
      "\u001b[1m304/304\u001b[0m \u001b[32m━━━━━━━━━━━━━━━━━━━━\u001b[0m\u001b[37m\u001b[0m \u001b[1m0s\u001b[0m 1ms/step - accuracy: 0.6285 - loss: 0.6430 - val_accuracy: 0.6201 - val_loss: 0.6454\n",
      "Epoch 39/50\n",
      "\u001b[1m304/304\u001b[0m \u001b[32m━━━━━━━━━━━━━━━━━━━━\u001b[0m\u001b[37m\u001b[0m \u001b[1m1s\u001b[0m 2ms/step - accuracy: 0.6376 - loss: 0.6393 - val_accuracy: 0.6217 - val_loss: 0.6454\n",
      "Epoch 40/50\n",
      "\u001b[1m304/304\u001b[0m \u001b[32m━━━━━━━━━━━━━━━━━━━━\u001b[0m\u001b[37m\u001b[0m \u001b[1m0s\u001b[0m 1ms/step - accuracy: 0.6326 - loss: 0.6400 - val_accuracy: 0.6209 - val_loss: 0.6459\n",
      "Epoch 41/50\n",
      "\u001b[1m304/304\u001b[0m \u001b[32m━━━━━━━━━━━━━━━━━━━━\u001b[0m\u001b[37m\u001b[0m \u001b[1m0s\u001b[0m 2ms/step - accuracy: 0.6398 - loss: 0.6357 - val_accuracy: 0.6221 - val_loss: 0.6448\n",
      "Epoch 42/50\n",
      "\u001b[1m304/304\u001b[0m \u001b[32m━━━━━━━━━━━━━━━━━━━━\u001b[0m\u001b[37m\u001b[0m \u001b[1m0s\u001b[0m 1ms/step - accuracy: 0.6308 - loss: 0.6411 - val_accuracy: 0.6184 - val_loss: 0.6457\n",
      "Epoch 43/50\n",
      "\u001b[1m304/304\u001b[0m \u001b[32m━━━━━━━━━━━━━━━━━━━━\u001b[0m\u001b[37m\u001b[0m \u001b[1m0s\u001b[0m 1ms/step - accuracy: 0.6446 - loss: 0.6294 - val_accuracy: 0.6209 - val_loss: 0.6462\n",
      "Epoch 44/50\n",
      "\u001b[1m304/304\u001b[0m \u001b[32m━━━━━━━━━━━━━━━━━━━━\u001b[0m\u001b[37m\u001b[0m \u001b[1m0s\u001b[0m 1ms/step - accuracy: 0.6337 - loss: 0.6386 - val_accuracy: 0.6192 - val_loss: 0.6437\n",
      "Epoch 45/50\n",
      "\u001b[1m304/304\u001b[0m \u001b[32m━━━━━━━━━━━━━━━━━━━━\u001b[0m\u001b[37m\u001b[0m \u001b[1m0s\u001b[0m 1ms/step - accuracy: 0.6338 - loss: 0.6355 - val_accuracy: 0.6229 - val_loss: 0.6430\n",
      "Epoch 46/50\n",
      "\u001b[1m304/304\u001b[0m \u001b[32m━━━━━━━━━━━━━━━━━━━━\u001b[0m\u001b[37m\u001b[0m \u001b[1m0s\u001b[0m 1ms/step - accuracy: 0.6355 - loss: 0.6362 - val_accuracy: 0.6164 - val_loss: 0.6478\n",
      "Epoch 47/50\n",
      "\u001b[1m304/304\u001b[0m \u001b[32m━━━━━━━━━━━━━━━━━━━━\u001b[0m\u001b[37m\u001b[0m \u001b[1m0s\u001b[0m 1ms/step - accuracy: 0.6268 - loss: 0.6412 - val_accuracy: 0.6205 - val_loss: 0.6459\n",
      "Epoch 48/50\n",
      "\u001b[1m304/304\u001b[0m \u001b[32m━━━━━━━━━━━━━━━━━━━━\u001b[0m\u001b[37m\u001b[0m \u001b[1m0s\u001b[0m 1ms/step - accuracy: 0.6270 - loss: 0.6382 - val_accuracy: 0.6229 - val_loss: 0.6450\n",
      "Epoch 49/50\n",
      "\u001b[1m304/304\u001b[0m \u001b[32m━━━━━━━━━━━━━━━━━━━━\u001b[0m\u001b[37m\u001b[0m \u001b[1m0s\u001b[0m 1ms/step - accuracy: 0.6343 - loss: 0.6399 - val_accuracy: 0.6209 - val_loss: 0.6457\n",
      "Epoch 50/50\n",
      "\u001b[1m304/304\u001b[0m \u001b[32m━━━━━━━━━━━━━━━━━━━━\u001b[0m\u001b[37m\u001b[0m \u001b[1m0s\u001b[0m 1ms/step - accuracy: 0.6290 - loss: 0.6413 - val_accuracy: 0.6229 - val_loss: 0.6435\n"
     ]
    }
   ],
   "source": [
    "history = model.fit(x_train, y_train, validation_data=(x_cv, y_cv), epochs=50, callbacks=[early_stopping])"
   ]
  },
  {
   "cell_type": "code",
   "execution_count": 83,
   "id": "f1ef6967-ac51-41e1-9dcf-30db458fca74",
   "metadata": {},
   "outputs": [
    {
     "data": {
      "image/png": "[encoded data removed]",
      "text/plain": [
       "<Figure size 640x480 with 1 Axes>"
      ]
     },
     "metadata": {},
     "output_type": "display_data"
    }
   ],
   "source": [
    "plt.title('Loss Plot')\n",
    "plt.plot(history.history['loss'],'b', label='Training Loss')\n",
    "plt.plot(history.history['val_loss'],'r',label='Training Loss')\n",
    "plt.xlabel('Epochs')\n",
    "plt.ylabel('Loss')\n",
    "plt.legend()\n",
    "plt.show()"
   ]
  },
  {
   "cell_type": "code",
   "execution_count": 91,
   "id": "d575c3bc-b14e-4190-9b92-2f04896127a4",
   "metadata": {},
   "outputs": [],
   "source": [
    "def predict_diabetes(model, input_data):\n",
    "    # Melakukan prediksi untuk mendapatkan probabilitas risiko diabetes\n",
    "    prob = model.predict(input_data)[:, 0]  # Probabilitas kelas 0 (Negatif) atau 1 (Positif)\n",
    "\n",
    "    status = 'Positif' if prob >= 0.6 else 'Negatif' \n",
    "    \n",
    "    return status, prob[0]"
   ]
  },
  {
   "cell_type": "code",
   "execution_count": 92,
   "id": "685b267f",
   "metadata": {},
   "outputs": [],
   "source": [
    "def normalize_bmi_age(sample, df_overall):\n",
    "    bmi_min, bmi_max = df_overall['BMI'].min(), df_overall['BMI'].max()\n",
    "    age_min, age_max = df_overall['Age'].min(), df_overall['Age'].max()\n",
    "    sample[:, 0] = (sample[:, 0] - bmi_min) / (bmi_max - bmi_min)\n",
    "    sample[:, -1] = (sample[:, -1] - age_min) / (age_max - age_min)\n",
    "    \n",
    "    return sample"
   ]
  },
  {
   "cell_type": "code",
   "execution_count": 93,
   "id": "f3e5ba8e-eda5-4db5-9b9d-4d2b4d1443bc",
   "metadata": {},
   "outputs": [
    {
     "name": "stdout",
     "output_type": "stream",
     "text": [
      "Sample 1 setelah normalisasi: [[0.3255814  1.         0.         1.         0.         0.\n",
      "  0.66666667]]\n",
      "Sample 2 setelah normalisasi: [[0.13953488 0.         1.         1.         0.         0.\n",
      "  0.83333333]]\n",
      "Sample 3 setelah normalisasi: [[0.18604651 0.         0.         1.         0.         0.\n",
      "  0.83333333]]\n",
      "Sample 4 setelah normalisasi: [[0.1744186 0.        1.        1.        0.        1.        1.       ]]\n",
      "\u001b[1m1/1\u001b[0m \u001b[32m━━━━━━━━━━━━━━━━━━━━\u001b[0m\u001b[37m\u001b[0m \u001b[1m0s\u001b[0m 15ms/step\n",
      "\u001b[1m1/1\u001b[0m \u001b[32m━━━━━━━━━━━━━━━━━━━━\u001b[0m\u001b[37m\u001b[0m \u001b[1m0s\u001b[0m 19ms/step\n",
      "\u001b[1m1/1\u001b[0m \u001b[32m━━━━━━━━━━━━━━━━━━━━\u001b[0m\u001b[37m\u001b[0m \u001b[1m0s\u001b[0m 15ms/step\n",
      "\u001b[1m1/1\u001b[0m \u001b[32m━━━━━━━━━━━━━━━━━━━━\u001b[0m\u001b[37m\u001b[0m \u001b[1m0s\u001b[0m 16ms/step\n",
      "Sample 1 - Probabilitas risiko diabetes: 0.6588, Status: Positif\n",
      "Sample 2 - Probabilitas risiko diabetes: 0.5749, Status: Negatif\n",
      "Sample 3 - Probabilitas risiko diabetes: 0.5967, Status: Negatif\n",
      "Sample 4 - Probabilitas risiko diabetes: 0.5852, Status: Negatif\n"
     ]
    }
   ],
   "source": [
    "sample_input_1 = np.array([[40.,  1.,  0.,  1.,  0.,  0., 9.]])   # Positif\n",
    "sample_input_2 = np.array([[24.,  0.,  1.,  1.,  0.,  0., 11.]])   # Positif\n",
    "sample_input_3 = np.array([[28.,  0.,  0.,  1.,  0.,  0., 11.]])   # NEGATIF\n",
    "sample_input_4 = np.array([[27.,  0.,  1.,  1.,  0.,  1., 13.]])   # NEGATIF\n",
    "sample_input_1 = normalize_bmi_age(sample_input_1, df_overall)\n",
    "sample_input_2 = normalize_bmi_age(sample_input_2, df_overall)\n",
    "sample_input_3 = normalize_bmi_age(sample_input_3, df_overall)\n",
    "sample_input_4 = normalize_bmi_age(sample_input_4, df_overall)\n",
    "print(\"Sample 1 setelah normalisasi:\", sample_input_1)\n",
    "print(\"Sample 2 setelah normalisasi:\", sample_input_2)\n",
    "print(\"Sample 3 setelah normalisasi:\", sample_input_3)\n",
    "print(\"Sample 4 setelah normalisasi:\", sample_input_4)\n",
    "\n",
    "status_1, prob_1 = predict_diabetes(model, sample_input_1)\n",
    "status_2, prob_2 = predict_diabetes(model, sample_input_2)\n",
    "status_3, prob_3 = predict_diabetes(model, sample_input_3)\n",
    "status_4, prob_4 = predict_diabetes(model, sample_input_4)\n",
    "\n",
    "# Menampilkan hasil\n",
    "print(f\"Sample 1 - Probabilitas risiko diabetes: {prob_1:.4f}, Status: {status_1}\")\n",
    "print(f\"Sample 2 - Probabilitas risiko diabetes: {prob_2:.4f}, Status: {status_2}\")\n",
    "print(f\"Sample 3 - Probabilitas risiko diabetes: {prob_3:.4f}, Status: {status_3}\")\n",
    "print(f\"Sample 4 - Probabilitas risiko diabetes: {prob_4:.4f}, Status: {status_4}\")"
   ]
  },
  {
   "cell_type": "code",
   "execution_count": 59,
   "id": "befec139",
   "metadata": {},
   "outputs": [
    {
     "name": "stdout",
     "output_type": "stream",
     "text": [
      "   Diabetes_binary   BMI  Smoker  PhysActivity  Veggies  HvyAlcoholConsump  \\\n",
      "0              0.0  40.0     1.0           0.0      1.0                0.0   \n",
      "1              0.0  25.0     1.0           1.0      0.0                0.0   \n",
      "2              0.0  28.0     0.0           0.0      0.0                0.0   \n",
      "3              0.0  27.0     0.0           1.0      1.0                0.0   \n",
      "4              0.0  24.0     0.0           1.0      1.0                0.0   \n",
      "\n",
      "   Sex   Age  \n",
      "0  0.0   9.0  \n",
      "1  0.0   7.0  \n",
      "2  0.0   9.0  \n",
      "3  0.0  11.0  \n",
      "4  0.0  11.0  \n",
      "    Diabetes_binary   BMI  Smoker  PhysActivity  Veggies  HvyAlcoholConsump  \\\n",
      "8               1.0  30.0     1.0           0.0      1.0                0.0   \n",
      "10              1.0  25.0     1.0           1.0      1.0                0.0   \n",
      "13              1.0  28.0     0.0           0.0      1.0                0.0   \n",
      "17              1.0  23.0     1.0           1.0      0.0                0.0   \n",
      "23              1.0  27.0     0.0           1.0      1.0                0.0   \n",
      "\n",
      "    Sex   Age  \n",
      "8   0.0   9.0  \n",
      "10  1.0  13.0  \n",
      "13  0.0  11.0  \n",
      "17  1.0   7.0  \n",
      "23  0.0  13.0  \n"
     ]
    }
   ],
   "source": [
    "df_zero_diabetes = df_overall[df_overall['Diabetes_binary'] == 0]\n",
    "print(df_zero_diabetes.head()) \n",
    "df_one_diabetes = df_overall[df_overall['Diabetes_binary'] == 1]\n",
    "print(df_one_diabetes.head()) "
   ]
  }
 ],
 "metadata": {
  "kernelspec": {
   "display_name": "Python 3",
   "language": "python",
   "name": "python3"
  },
  "language_info": {
   "codemirror_mode": {
    "name": "ipython",
    "version": 3
   },
   "file_extension": ".py",
   "mimetype": "text/x-python",
   "name": "python",
   "nbconvert_exporter": "python",
   "pygments_lexer": "ipython3",
   "version": "3.12.1"
  }
 },
 "nbformat": 4,
 "nbformat_minor": 5
}
