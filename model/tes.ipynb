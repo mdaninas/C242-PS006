{
 "cells": [
  {
   "cell_type": "markdown",
   "id": "256bed5b-231b-4e9b-909a-0c9113bfe782",
   "metadata": {},
   "source": [
    "# CARA 1 (DIGABUNG)"
   ]
  },
  {
   "cell_type": "code",
   "execution_count": 1,
   "id": "4b5d26f1-5501-4056-accb-2b296e231042",
   "metadata": {},
   "outputs": [],
   "source": [
    "import pandas as pd\n",
    "import numpy as np\n",
    "import matplotlib.pyplot as plt\n",
    "import seaborn as sns\n",
    "import tensorflow as tf\n",
    "import matplotlib.pyplot as plt\n",
    "from tensorflow.keras import layers\n",
    "from sklearn.model_selection import train_test_split"
   ]
  },
  {
   "cell_type": "code",
   "execution_count": null,
   "id": "4c00069f-f4ec-4fb3-96e2-8b119a860f36",
   "metadata": {},
   "outputs": [],
   "source": [
    "df1 = pd.read_csv('./data/diabetes/diabetes_012_health_indicators_BRFSS2015.csv')\n",
    "df2 = pd.read_csv('./data/diabetes/diabetes_binary_5050split_health_indicators_BRFSS2015.csv')\n",
    "df3 = pd.read_csv('./data/diabetes/diabetes_binary_health_indicators_BRFSS2015.csv')"
   ]
  },
  {
   "cell_type": "code",
   "execution_count": 3,
   "id": "4c0f13bb-576c-43d1-a359-e50413fb1b3e",
   "metadata": {},
   "outputs": [],
   "source": [
    "df1 = df1.drop(columns=['HighBP','HighChol','CholCheck','Stroke','HeartDiseaseorAttack','Fruits','AnyHealthcare','NoDocbcCost','GenHlth','MentHlth','PhysHlth','DiffWalk','Education','Income'])"
   ]
  },
  {
   "cell_type": "code",
   "execution_count": 4,
   "id": "d4229eef-579c-4178-9300-bb220519fe10",
   "metadata": {},
   "outputs": [],
   "source": [
    "df1.rename(columns={'Diabetes_012': 'Diabetes_binary'}, inplace=True)"
   ]
  },
  {
   "cell_type": "code",
   "execution_count": 5,
   "id": "3be9c440-ee27-4cae-8ded-ff14cd3cb21b",
   "metadata": {},
   "outputs": [],
   "source": [
    "df2 = df2.drop(columns=['HighBP','HighChol','CholCheck','Stroke','HeartDiseaseorAttack','Fruits','AnyHealthcare','NoDocbcCost','GenHlth','MentHlth','PhysHlth','DiffWalk','Education','Income'])"
   ]
  },
  {
   "cell_type": "code",
   "execution_count": 6,
   "id": "3c6163b4-91dd-405c-b23e-44763655e9d3",
   "metadata": {},
   "outputs": [],
   "source": [
    "df3 = df3.drop(columns=['HighBP','HighChol','CholCheck','Stroke','HeartDiseaseorAttack','Fruits','AnyHealthcare','NoDocbcCost','GenHlth','MentHlth','PhysHlth','DiffWalk','Education','Income'])"
   ]
  },
  {
   "cell_type": "code",
   "execution_count": 7,
   "id": "9d8beebd-84fa-455a-8c5b-d5c4a114fe3c",
   "metadata": {},
   "outputs": [
    {
     "name": "stderr",
     "output_type": "stream",
     "text": [
      "C:\\Users\\ASUS\\AppData\\Local\\Temp\\ipykernel_30396\\3702795627.py:1: FutureWarning: A value is trying to be set on a copy of a DataFrame or Series through chained assignment using an inplace method.\n",
      "The behavior will change in pandas 3.0. This inplace method will never work because the intermediate object on which we are setting values always behaves as a copy.\n",
      "\n",
      "For example, when doing 'df[col].method(value, inplace=True)', try using 'df.method({col: value}, inplace=True)' or df[col] = df[col].method(value) instead, to perform the operation inplace on the original object.\n",
      "\n",
      "\n",
      "  df1['Diabetes_binary'].replace(2, 1, inplace=True)\n"
     ]
    }
   ],
   "source": [
    "df1['Diabetes_binary'].replace(2, 1, inplace=True)"
   ]
  },
  {
   "cell_type": "code",
   "execution_count": 8,
   "id": "cbd53153-57e2-44fe-a6b1-41acfdfa9602",
   "metadata": {},
   "outputs": [
    {
     "name": "stdout",
     "output_type": "stream",
     "text": [
      "<class 'pandas.core.frame.DataFrame'>\n",
      "RangeIndex: 253680 entries, 0 to 253679\n",
      "Data columns (total 8 columns):\n",
      " #   Column             Non-Null Count   Dtype  \n",
      "---  ------             --------------   -----  \n",
      " 0   Diabetes_binary    253680 non-null  float64\n",
      " 1   BMI                253680 non-null  float64\n",
      " 2   Smoker             253680 non-null  float64\n",
      " 3   PhysActivity       253680 non-null  float64\n",
      " 4   Veggies            253680 non-null  float64\n",
      " 5   HvyAlcoholConsump  253680 non-null  float64\n",
      " 6   Sex                253680 non-null  float64\n",
      " 7   Age                253680 non-null  float64\n",
      "dtypes: float64(8)\n",
      "memory usage: 15.5 MB\n"
     ]
    }
   ],
   "source": [
    "df1.info()"
   ]
  },
  {
   "cell_type": "code",
   "execution_count": 9,
   "id": "1e93b855-12c7-4c4f-9cf5-648d5ad21223",
   "metadata": {},
   "outputs": [
    {
     "data": {
      "text/plain": [
       "array([0., 1.])"
      ]
     },
     "execution_count": 9,
     "metadata": {},
     "output_type": "execute_result"
    }
   ],
   "source": [
    "df1['Diabetes_binary'].unique()"
   ]
  },
  {
   "cell_type": "code",
   "execution_count": 10,
   "id": "b4433e3c-c088-4b6f-9cfa-30dd2c514aee",
   "metadata": {},
   "outputs": [
    {
     "name": "stdout",
     "output_type": "stream",
     "text": [
      "<class 'pandas.core.frame.DataFrame'>\n",
      "RangeIndex: 70692 entries, 0 to 70691\n",
      "Data columns (total 8 columns):\n",
      " #   Column             Non-Null Count  Dtype  \n",
      "---  ------             --------------  -----  \n",
      " 0   Diabetes_binary    70692 non-null  float64\n",
      " 1   BMI                70692 non-null  float64\n",
      " 2   Smoker             70692 non-null  float64\n",
      " 3   PhysActivity       70692 non-null  float64\n",
      " 4   Veggies            70692 non-null  float64\n",
      " 5   HvyAlcoholConsump  70692 non-null  float64\n",
      " 6   Sex                70692 non-null  float64\n",
      " 7   Age                70692 non-null  float64\n",
      "dtypes: float64(8)\n",
      "memory usage: 4.3 MB\n"
     ]
    }
   ],
   "source": [
    "df2.info()"
   ]
  },
  {
   "cell_type": "code",
   "execution_count": 11,
   "id": "e1aa4cce-3d29-44e4-b28e-e06f38d19f0b",
   "metadata": {},
   "outputs": [
    {
     "name": "stdout",
     "output_type": "stream",
     "text": [
      "<class 'pandas.core.frame.DataFrame'>\n",
      "RangeIndex: 253680 entries, 0 to 253679\n",
      "Data columns (total 8 columns):\n",
      " #   Column             Non-Null Count   Dtype  \n",
      "---  ------             --------------   -----  \n",
      " 0   Diabetes_binary    253680 non-null  float64\n",
      " 1   BMI                253680 non-null  float64\n",
      " 2   Smoker             253680 non-null  float64\n",
      " 3   PhysActivity       253680 non-null  float64\n",
      " 4   Veggies            253680 non-null  float64\n",
      " 5   HvyAlcoholConsump  253680 non-null  float64\n",
      " 6   Sex                253680 non-null  float64\n",
      " 7   Age                253680 non-null  float64\n",
      "dtypes: float64(8)\n",
      "memory usage: 15.5 MB\n"
     ]
    }
   ],
   "source": [
    "df3.info()"
   ]
  },
  {
   "cell_type": "code",
   "execution_count": 12,
   "id": "7e33b1a7-908a-4356-84bb-d3474ef293d6",
   "metadata": {},
   "outputs": [
    {
     "name": "stdout",
     "output_type": "stream",
     "text": [
      "   Diabetes_binary   BMI  Smoker  PhysActivity  Veggies  HvyAlcoholConsump  \\\n",
      "0              0.0  40.0     1.0           0.0      1.0                0.0   \n",
      "1              0.0  25.0     1.0           1.0      0.0                0.0   \n",
      "2              0.0  28.0     0.0           0.0      0.0                0.0   \n",
      "3              0.0  27.0     0.0           1.0      1.0                0.0   \n",
      "4              0.0  24.0     0.0           1.0      1.0                0.0   \n",
      "\n",
      "   Sex   Age  \n",
      "0  0.0   9.0  \n",
      "1  0.0   7.0  \n",
      "2  0.0   9.0  \n",
      "3  0.0  11.0  \n",
      "4  0.0  11.0  \n"
     ]
    }
   ],
   "source": [
    "df_overall = pd.concat([df1, df2, df3], ignore_index=True)\n",
    "print(df_overall.head())"
   ]
  },
  {
   "cell_type": "code",
   "execution_count": 13,
   "id": "70a5781b-d77a-40df-b4f7-624fc57bd165",
   "metadata": {},
   "outputs": [
    {
     "name": "stdout",
     "output_type": "stream",
     "text": [
      "   Diabetes_binary   BMI  Smoker  PhysActivity  Veggies  HvyAlcoholConsump  \\\n",
      "0              0.0  40.0     1.0           0.0      1.0                0.0   \n",
      "1              0.0  25.0     1.0           1.0      0.0                0.0   \n",
      "2              0.0  28.0     0.0           0.0      0.0                0.0   \n",
      "3              0.0  27.0     0.0           1.0      1.0                0.0   \n",
      "4              0.0  24.0     0.0           1.0      1.0                0.0   \n",
      "\n",
      "   Sex   Age  \n",
      "0  0.0   9.0  \n",
      "1  0.0   7.0  \n",
      "2  0.0   9.0  \n",
      "3  0.0  11.0  \n",
      "4  0.0  11.0  \n",
      "    Diabetes_binary   BMI  Smoker  PhysActivity  Veggies  HvyAlcoholConsump  \\\n",
      "8               1.0  30.0     1.0           0.0      1.0                0.0   \n",
      "10              1.0  25.0     1.0           1.0      1.0                0.0   \n",
      "13              1.0  28.0     0.0           0.0      1.0                0.0   \n",
      "17              1.0  23.0     1.0           1.0      0.0                0.0   \n",
      "23              1.0  27.0     0.0           1.0      1.0                0.0   \n",
      "\n",
      "    Sex   Age  \n",
      "8   0.0   9.0  \n",
      "10  1.0  13.0  \n",
      "13  0.0  11.0  \n",
      "17  1.0   7.0  \n",
      "23  0.0  13.0  \n"
     ]
    }
   ],
   "source": [
    "df_zero_diabetes = df_overall[df_overall['Diabetes_binary'] == 0]\n",
    "print(df_zero_diabetes.head()) \n",
    "df_one_diabetes = df_overall[df_overall['Diabetes_binary'] == 1]\n",
    "print(df_one_diabetes.head()) "
   ]
  },
  {
   "cell_type": "code",
   "execution_count": 14,
   "id": "0dfd05e5-8c6b-4ef0-a447-6220e320d93a",
   "metadata": {},
   "outputs": [
    {
     "name": "stdout",
     "output_type": "stream",
     "text": [
      "Nilai unik pada kolom 'Diabetes_binary' dan jumlahnya:\n",
      "Diabetes_binary\n",
      "0.0    467383\n",
      "1.0    110669\n",
      "Name: count, dtype: int64\n"
     ]
    }
   ],
   "source": [
    "unique_values = df_overall['Diabetes_binary'].value_counts()\n",
    "print(\"Nilai unik pada kolom 'Diabetes_binary' dan jumlahnya:\")\n",
    "print(unique_values)"
   ]
  },
  {
   "cell_type": "code",
   "execution_count": 17,
   "id": "75171a41-cd34-4204-8646-a9d50da4547c",
   "metadata": {},
   "outputs": [
    {
     "name": "stdout",
     "output_type": "stream",
     "text": [
      "Semua Kolom\n",
      "Index(['Diabetes_binary', 'BMI', 'Smoker', 'PhysActivity', 'Veggies',\n",
      "       'HvyAlcoholConsump', 'Sex', 'Age'],\n",
      "      dtype='object')\n",
      "Jumlah nilai null di setiap kolom:\n",
      "Diabetes_binary      0\n",
      "BMI                  0\n",
      "Smoker               0\n",
      "PhysActivity         0\n",
      "Veggies              0\n",
      "HvyAlcoholConsump    0\n",
      "Sex                  0\n",
      "Age                  0\n",
      "dtype: int64\n",
      "Jumlah baris duplikat: 0\n"
     ]
    }
   ],
   "source": [
    "print('Semua Kolom')\n",
    "print(df_overall.columns)\n",
    "print(\"Jumlah nilai null di setiap kolom:\")\n",
    "print(df_overall.isnull().sum())\n",
    "duplicate_rows = df_overall.duplicated().sum()\n",
    "print(f\"Jumlah baris duplikat: {duplicate_rows}\")"
   ]
  },
  {
   "cell_type": "code",
   "execution_count": 16,
   "id": "7c4ac9bf-c19d-47a3-bffb-3cbe592b4913",
   "metadata": {},
   "outputs": [
    {
     "name": "stdout",
     "output_type": "stream",
     "text": [
      "Jumlah baris duplikat setelah penghapusan: 0\n"
     ]
    },
    {
     "data": {
      "text/plain": [
       "16664"
      ]
     },
     "execution_count": 16,
     "metadata": {},
     "output_type": "execute_result"
    }
   ],
   "source": [
    "df_overall = df_overall.drop_duplicates()\n",
    "\n",
    "# Memeriksa kembali apakah masih ada duplikat\n",
    "duplicate_rows_after = df_overall.duplicated().sum()\n",
    "print(f\"Jumlah baris duplikat setelah penghapusan: {duplicate_rows_after}\")\n",
    "len(df_overall)"
   ]
  },
  {
   "cell_type": "code",
   "execution_count": 18,
   "id": "8fa6aa14-3af4-4a81-ba42-e21f080f2394",
   "metadata": {},
   "outputs": [
    {
     "name": "stdout",
     "output_type": "stream",
     "text": [
      "   Diabetes_binary   BMI  Smoker  PhysActivity  Veggies  HvyAlcoholConsump  \\\n",
      "0              0.0  40.0     1.0           0.0      1.0                0.0   \n",
      "1              0.0  25.0     1.0           1.0      0.0                0.0   \n",
      "2              0.0  28.0     0.0           0.0      0.0                0.0   \n",
      "3              0.0  27.0     0.0           1.0      1.0                0.0   \n",
      "4              0.0  24.0     0.0           1.0      1.0                0.0   \n",
      "\n",
      "   Sex   Age  \n",
      "0  0.0   9.0  \n",
      "1  0.0   7.0  \n",
      "2  0.0   9.0  \n",
      "3  0.0  11.0  \n",
      "4  0.0  11.0  \n",
      "    Diabetes_binary   BMI  Smoker  PhysActivity  Veggies  HvyAlcoholConsump  \\\n",
      "8               1.0  30.0     1.0           0.0      1.0                0.0   \n",
      "10              1.0  25.0     1.0           1.0      1.0                0.0   \n",
      "13              1.0  28.0     0.0           0.0      1.0                0.0   \n",
      "17              1.0  23.0     1.0           1.0      0.0                0.0   \n",
      "23              1.0  27.0     0.0           1.0      1.0                0.0   \n",
      "\n",
      "    Sex   Age  \n",
      "8   0.0   9.0  \n",
      "10  1.0  13.0  \n",
      "13  0.0  11.0  \n",
      "17  1.0   7.0  \n",
      "23  0.0  13.0  \n"
     ]
    }
   ],
   "source": [
    "df_zero_diabetes = df_overall[df_overall['Diabetes_binary'] == 0]\n",
    "print(df_zero_diabetes.head()) \n",
    "df_one_diabetes = df_overall[df_overall['Diabetes_binary'] == 1]\n",
    "print(df_one_diabetes.head()) "
   ]
  },
  {
   "cell_type": "markdown",
   "id": "fd4e6573-da21-45f3-b650-7e2b3f570078",
   "metadata": {
    "jp-MarkdownHeadingCollapsed": true
   },
   "source": [
    "## Heatmap"
   ]
  },
  {
   "cell_type": "code",
   "execution_count": 18,
   "id": "54e332c2-e873-406b-a9bf-ca499b3e1630",
   "metadata": {},
   "outputs": [
    {
     "data": {
      "image/png": "[encoded data removed]",
      "text/plain": [
       "<Figure size 1600x1200 with 2 Axes>"
      ]
     },
     "metadata": {},
     "output_type": "display_data"
    }
   ],
   "source": [
    "corr_matrix = df_overall.corr()\n",
    "plt.figure(figsize=(16, 12))\n",
    "sns.heatmap(corr_matrix, annot=True, cmap='coolwarm', linewidths=0.5, square=True)\n",
    "plt.xticks(rotation=45, ha='right')\n",
    "plt.title('Matriks Korelasi dari Fitur yang Dipilih', fontsize=14)\n",
    "plt.show()"
   ]
  },
  {
   "cell_type": "code",
   "execution_count": 19,
   "id": "0c567b4b-f0a4-412d-bc5c-04b9f7350105",
   "metadata": {},
   "outputs": [
    {
     "data": {
      "text/html": [
       "<div>\n",
       "<style scoped>\n",
       "    .dataframe tbody tr th:only-of-type {\n",
       "        vertical-align: middle;\n",
       "    }\n",
       "\n",
       "    .dataframe tbody tr th {\n",
       "        vertical-align: top;\n",
       "    }\n",
       "\n",
       "    .dataframe thead th {\n",
       "        text-align: right;\n",
       "    }\n",
       "</style>\n",
       "<table border=\"1\" class=\"dataframe\">\n",
       "  <thead>\n",
       "    <tr style=\"text-align: right;\">\n",
       "      <th></th>\n",
       "      <th>Column</th>\n",
       "      <th>Max</th>\n",
       "      <th>Min</th>\n",
       "    </tr>\n",
       "  </thead>\n",
       "  <tbody>\n",
       "    <tr>\n",
       "      <th>0</th>\n",
       "      <td>Diabetes_binary</td>\n",
       "      <td>1.0</td>\n",
       "      <td>0.0</td>\n",
       "    </tr>\n",
       "    <tr>\n",
       "      <th>1</th>\n",
       "      <td>BMI</td>\n",
       "      <td>98.0</td>\n",
       "      <td>12.0</td>\n",
       "    </tr>\n",
       "    <tr>\n",
       "      <th>2</th>\n",
       "      <td>Smoker</td>\n",
       "      <td>1.0</td>\n",
       "      <td>0.0</td>\n",
       "    </tr>\n",
       "    <tr>\n",
       "      <th>3</th>\n",
       "      <td>PhysActivity</td>\n",
       "      <td>1.0</td>\n",
       "      <td>0.0</td>\n",
       "    </tr>\n",
       "    <tr>\n",
       "      <th>4</th>\n",
       "      <td>Veggies</td>\n",
       "      <td>1.0</td>\n",
       "      <td>0.0</td>\n",
       "    </tr>\n",
       "    <tr>\n",
       "      <th>5</th>\n",
       "      <td>HvyAlcoholConsump</td>\n",
       "      <td>1.0</td>\n",
       "      <td>0.0</td>\n",
       "    </tr>\n",
       "    <tr>\n",
       "      <th>6</th>\n",
       "      <td>Sex</td>\n",
       "      <td>1.0</td>\n",
       "      <td>0.0</td>\n",
       "    </tr>\n",
       "    <tr>\n",
       "      <th>7</th>\n",
       "      <td>Age</td>\n",
       "      <td>13.0</td>\n",
       "      <td>1.0</td>\n",
       "    </tr>\n",
       "  </tbody>\n",
       "</table>\n",
       "</div>"
      ],
      "text/plain": [
       "              Column   Max   Min\n",
       "0    Diabetes_binary   1.0   0.0\n",
       "1                BMI  98.0  12.0\n",
       "2             Smoker   1.0   0.0\n",
       "3       PhysActivity   1.0   0.0\n",
       "4            Veggies   1.0   0.0\n",
       "5  HvyAlcoholConsump   1.0   0.0\n",
       "6                Sex   1.0   0.0\n",
       "7                Age  13.0   1.0"
      ]
     },
     "execution_count": 19,
     "metadata": {},
     "output_type": "execute_result"
    }
   ],
   "source": [
    "summary_df = pd.DataFrame({\n",
    "    'Column': df_overall.columns,\n",
    "    'Max': df_overall.max().values,\n",
    "    'Min': df_overall.min().values\n",
    "})\n",
    "summary_df"
   ]
  },
  {
   "cell_type": "code",
   "execution_count": 20,
   "id": "0c1b0ba9-b86b-4539-9b6b-010e37f737e2",
   "metadata": {},
   "outputs": [
    {
     "name": "stdout",
     "output_type": "stream",
     "text": [
      "df1\n",
      "Diabetes_binary: [0. 1.]\n",
      "BMI: [40. 25. 28. 27. 24. 30. 34. 26. 33. 21. 23. 22. 38. 32. 37. 31. 29. 20.\n",
      " 35. 45. 39. 19. 47. 18. 36. 43. 55. 49. 42. 17. 16. 41. 44. 50. 59. 48.\n",
      " 52. 46. 54. 57. 53. 14. 15. 51. 58. 63. 61. 56. 74. 62. 64. 66. 73. 85.\n",
      " 60. 67. 65. 70. 82. 79. 92. 68. 72. 88. 96. 13. 81. 71. 75. 12. 77. 69.\n",
      " 76. 87. 89. 84. 95. 98. 91. 86. 83. 80. 90. 78.]\n",
      "Smoker: [1. 0.]\n",
      "PhysActivity: [0. 1.]\n",
      "Veggies: [1. 0.]\n",
      "HvyAlcoholConsump: [0. 1.]\n",
      "Sex: [0. 1.]\n",
      "Age: [ 9.  7. 11. 10.  8. 13.  4.  6.  2. 12.  5.  1.  3.]\n"
     ]
    }
   ],
   "source": [
    "print('df1')\n",
    "for col in df_overall.columns:\n",
    "    print(f\"{col}: {df_overall[col].unique()}\")"
   ]
  },
  {
   "cell_type": "markdown",
   "id": "165553b7-f4cc-4322-b967-8b3a709f734a",
   "metadata": {},
   "source": [
    "## SPLIT DATA"
   ]
  },
  {
   "cell_type": "code",
   "execution_count": 19,
   "id": "8c4fe48e-1410-464f-93e0-919ef604415e",
   "metadata": {},
   "outputs": [
    {
     "name": "stdout",
     "output_type": "stream",
     "text": [
      "x_train shape: (9998, 7), y_train shape: (9998, 1)\n",
      "x_cv shape: (3333, 7), y_cv shape: (3333, 1)\n",
      "x_test shape: (3333, 7), y_test shape: (3333, 1)\n"
     ]
    }
   ],
   "source": [
    "data_array = df_overall.to_numpy()\n",
    "labels = data_array[:, 0]  \n",
    "features = data_array[:, 1:]\n",
    "x_train, x_remaining, y_train, y_remaining = train_test_split(features, labels, test_size=0.4, random_state=42)\n",
    "x_cv, x_test, y_cv, y_test = train_test_split(x_remaining, y_remaining, test_size=0.5, random_state=42)\n",
    "y_train = y_train.reshape(-1, 1)\n",
    "y_cv = y_cv.reshape(-1, 1)\n",
    "y_test = y_test.reshape(-1, 1)\n",
    "print(f\"x_train shape: {x_train.shape}, y_train shape: {y_train.shape}\")\n",
    "print(f\"x_cv shape: {x_cv.shape}, y_cv shape: {y_cv.shape}\")\n",
    "print(f\"x_test shape: {x_test.shape}, y_test shape: {y_test.shape}\")"
   ]
  },
  {
   "cell_type": "code",
   "execution_count": 20,
   "id": "37bd5b48-825c-4c52-b55d-1130d5505615",
   "metadata": {},
   "outputs": [
    {
     "data": {
      "text/plain": [
       "['Diabetes_binary',\n",
       " 'BMI',\n",
       " 'Smoker',\n",
       " 'PhysActivity',\n",
       " 'Veggies',\n",
       " 'HvyAlcoholConsump',\n",
       " 'Sex',\n",
       " 'Age']"
      ]
     },
     "execution_count": 20,
     "metadata": {},
     "output_type": "execute_result"
    }
   ],
   "source": [
    "df_overall.columns.tolist()"
   ]
  },
  {
   "cell_type": "code",
   "execution_count": 21,
   "id": "7ab360cd-50ec-48fe-819d-a0f1b74c1083",
   "metadata": {},
   "outputs": [
    {
     "name": "stderr",
     "output_type": "stream",
     "text": [
      "C:\\Users\\ASUS\\AppData\\Local\\Programs\\Python\\Python312\\Lib\\site-packages\\keras\\src\\layers\\core\\input_layer.py:26: UserWarning: Argument `input_shape` is deprecated. Use `shape` instead.\n",
      "  warnings.warn(\n"
     ]
    }
   ],
   "source": [
    "model = tf.keras.Sequential([\n",
    "    layers.InputLayer(input_shape=(x_train.shape[1],)),\n",
    "    layers.Dense(128, activation='relu'),\n",
    "    layers.Dropout(0.3),\n",
    "    layers.Dense(256, activation='relu'),\n",
    "    layers.Dropout(0.3),\n",
    "    layers.Dense(512, activation='relu'),\n",
    "    layers.Dropout(0.3),\n",
    "    layers.Dense(1, activation='sigmoid')\n",
    "])"
   ]
  },
  {
   "cell_type": "code",
   "execution_count": 22,
   "id": "529ecfb2-7061-4950-8163-a7f9a2fed893",
   "metadata": {},
   "outputs": [],
   "source": [
    "optimizer = tf.keras.optimizers.Adam(learning_rate=0.0001)  # or try 0.0001\n",
    "model.compile(optimizer=optimizer, loss='binary_crossentropy', metrics=['accuracy'])"
   ]
  },
  {
   "cell_type": "code",
   "execution_count": 23,
   "id": "bf4c6161-69a4-4faf-b390-93e1283ee030",
   "metadata": {},
   "outputs": [
    {
     "name": "stdout",
     "output_type": "stream",
     "text": [
      "(9998, 1)\n",
      "(9998, 7)\n"
     ]
    }
   ],
   "source": [
    "print(y_train.shape)\n",
    "print(x_train.shape)"
   ]
  },
  {
   "cell_type": "code",
   "execution_count": 24,
   "id": "82675cec-bd97-4162-a9c9-e6cf9c97d15d",
   "metadata": {},
   "outputs": [],
   "source": [
    "from tensorflow.keras.callbacks import EarlyStopping\n",
    "early_stopping = EarlyStopping(monitor='val_loss', patience=20, restore_best_weights=True)"
   ]
  },
  {
   "cell_type": "code",
   "execution_count": 25,
   "id": "f0c97085-0375-492a-864e-ad9c7431dd42",
   "metadata": {},
   "outputs": [
    {
     "name": "stdout",
     "output_type": "stream",
     "text": [
      "Epoch 1/50\n",
      "\u001b[1m313/313\u001b[0m \u001b[32m━━━━━━━━━━━━━━━━━━━━\u001b[0m\u001b[37m\u001b[0m \u001b[1m1s\u001b[0m 2ms/step - accuracy: 0.5492 - loss: 0.8960 - val_accuracy: 0.5977 - val_loss: 0.6692\n",
      "Epoch 2/50\n",
      "\u001b[1m313/313\u001b[0m \u001b[32m━━━━━━━━━━━━━━━━━━━━\u001b[0m\u001b[37m\u001b[0m \u001b[1m0s\u001b[0m 1ms/step - accuracy: 0.5707 - loss: 0.7598 - val_accuracy: 0.5734 - val_loss: 0.6771\n",
      "Epoch 3/50\n",
      "\u001b[1m313/313\u001b[0m \u001b[32m━━━━━━━━━━━━━━━━━━━━\u001b[0m\u001b[37m\u001b[0m \u001b[1m0s\u001b[0m 1ms/step - accuracy: 0.5905 - loss: 0.7123 - val_accuracy: 0.5773 - val_loss: 0.6743\n",
      "Epoch 4/50\n",
      "\u001b[1m313/313\u001b[0m \u001b[32m━━━━━━━━━━━━━━━━━━━━\u001b[0m\u001b[37m\u001b[0m \u001b[1m0s\u001b[0m 1ms/step - accuracy: 0.5952 - loss: 0.6975 - val_accuracy: 0.6271 - val_loss: 0.6667\n",
      "Epoch 5/50\n",
      "\u001b[1m313/313\u001b[0m \u001b[32m━━━━━━━━━━━━━━━━━━━━\u001b[0m\u001b[37m\u001b[0m \u001b[1m0s\u001b[0m 1ms/step - accuracy: 0.5986 - loss: 0.6906 - val_accuracy: 0.6283 - val_loss: 0.6643\n",
      "Epoch 6/50\n",
      "\u001b[1m313/313\u001b[0m \u001b[32m━━━━━━━━━━━━━━━━━━━━\u001b[0m\u001b[37m\u001b[0m \u001b[1m0s\u001b[0m 1ms/step - accuracy: 0.5987 - loss: 0.6859 - val_accuracy: 0.6283 - val_loss: 0.6652\n",
      "Epoch 7/50\n",
      "\u001b[1m313/313\u001b[0m \u001b[32m━━━━━━━━━━━━━━━━━━━━\u001b[0m\u001b[37m\u001b[0m \u001b[1m0s\u001b[0m 1ms/step - accuracy: 0.6141 - loss: 0.6704 - val_accuracy: 0.6283 - val_loss: 0.6625\n",
      "Epoch 8/50\n",
      "\u001b[1m313/313\u001b[0m \u001b[32m━━━━━━━━━━━━━━━━━━━━\u001b[0m\u001b[37m\u001b[0m \u001b[1m0s\u001b[0m 1ms/step - accuracy: 0.6192 - loss: 0.6647 - val_accuracy: 0.6283 - val_loss: 0.6609\n",
      "Epoch 9/50\n",
      "\u001b[1m313/313\u001b[0m \u001b[32m━━━━━━━━━━━━━━━━━━━━\u001b[0m\u001b[37m\u001b[0m \u001b[1m0s\u001b[0m 1ms/step - accuracy: 0.6293 - loss: 0.6624 - val_accuracy: 0.6283 - val_loss: 0.6540\n",
      "Epoch 10/50\n",
      "\u001b[1m313/313\u001b[0m \u001b[32m━━━━━━━━━━━━━━━━━━━━\u001b[0m\u001b[37m\u001b[0m \u001b[1m0s\u001b[0m 1ms/step - accuracy: 0.6299 - loss: 0.6622 - val_accuracy: 0.6283 - val_loss: 0.6522\n",
      "Epoch 11/50\n",
      "\u001b[1m313/313\u001b[0m \u001b[32m━━━━━━━━━━━━━━━━━━━━\u001b[0m\u001b[37m\u001b[0m \u001b[1m0s\u001b[0m 1ms/step - accuracy: 0.6311 - loss: 0.6579 - val_accuracy: 0.6283 - val_loss: 0.6505\n",
      "Epoch 12/50\n",
      "\u001b[1m313/313\u001b[0m \u001b[32m━━━━━━━━━━━━━━━━━━━━\u001b[0m\u001b[37m\u001b[0m \u001b[1m0s\u001b[0m 1ms/step - accuracy: 0.6220 - loss: 0.6572 - val_accuracy: 0.6283 - val_loss: 0.6502\n",
      "Epoch 13/50\n",
      "\u001b[1m313/313\u001b[0m \u001b[32m━━━━━━━━━━━━━━━━━━━━\u001b[0m\u001b[37m\u001b[0m \u001b[1m1s\u001b[0m 1ms/step - accuracy: 0.6333 - loss: 0.6535 - val_accuracy: 0.6283 - val_loss: 0.6468\n",
      "Epoch 14/50\n",
      "\u001b[1m313/313\u001b[0m \u001b[32m━━━━━━━━━━━━━━━━━━━━\u001b[0m\u001b[37m\u001b[0m \u001b[1m1s\u001b[0m 2ms/step - accuracy: 0.6209 - loss: 0.6570 - val_accuracy: 0.6283 - val_loss: 0.6474\n",
      "Epoch 15/50\n",
      "\u001b[1m313/313\u001b[0m \u001b[32m━━━━━━━━━━━━━━━━━━━━\u001b[0m\u001b[37m\u001b[0m \u001b[1m0s\u001b[0m 1ms/step - accuracy: 0.6232 - loss: 0.6558 - val_accuracy: 0.6283 - val_loss: 0.6431\n",
      "Epoch 16/50\n",
      "\u001b[1m313/313\u001b[0m \u001b[32m━━━━━━━━━━━━━━━━━━━━\u001b[0m\u001b[37m\u001b[0m \u001b[1m0s\u001b[0m 1ms/step - accuracy: 0.6228 - loss: 0.6543 - val_accuracy: 0.6283 - val_loss: 0.6387\n",
      "Epoch 17/50\n",
      "\u001b[1m313/313\u001b[0m \u001b[32m━━━━━━━━━━━━━━━━━━━━\u001b[0m\u001b[37m\u001b[0m \u001b[1m0s\u001b[0m 1ms/step - accuracy: 0.6215 - loss: 0.6529 - val_accuracy: 0.6283 - val_loss: 0.6372\n",
      "Epoch 18/50\n",
      "\u001b[1m313/313\u001b[0m \u001b[32m━━━━━━━━━━━━━━━━━━━━\u001b[0m\u001b[37m\u001b[0m \u001b[1m0s\u001b[0m 1ms/step - accuracy: 0.6373 - loss: 0.6404 - val_accuracy: 0.6262 - val_loss: 0.6393\n",
      "Epoch 19/50\n",
      "\u001b[1m313/313\u001b[0m \u001b[32m━━━━━━━━━━━━━━━━━━━━\u001b[0m\u001b[37m\u001b[0m \u001b[1m0s\u001b[0m 1ms/step - accuracy: 0.6291 - loss: 0.6459 - val_accuracy: 0.6277 - val_loss: 0.6345\n",
      "Epoch 20/50\n",
      "\u001b[1m313/313\u001b[0m \u001b[32m━━━━━━━━━━━━━━━━━━━━\u001b[0m\u001b[37m\u001b[0m \u001b[1m0s\u001b[0m 1ms/step - accuracy: 0.6200 - loss: 0.6485 - val_accuracy: 0.6283 - val_loss: 0.6337\n",
      "Epoch 21/50\n",
      "\u001b[1m313/313\u001b[0m \u001b[32m━━━━━━━━━━━━━━━━━━━━\u001b[0m\u001b[37m\u001b[0m \u001b[1m0s\u001b[0m 1ms/step - accuracy: 0.6414 - loss: 0.6401 - val_accuracy: 0.6274 - val_loss: 0.6318\n",
      "Epoch 22/50\n",
      "\u001b[1m313/313\u001b[0m \u001b[32m━━━━━━━━━━━━━━━━━━━━\u001b[0m\u001b[37m\u001b[0m \u001b[1m0s\u001b[0m 1ms/step - accuracy: 0.6323 - loss: 0.6405 - val_accuracy: 0.6262 - val_loss: 0.6294\n",
      "Epoch 23/50\n",
      "\u001b[1m313/313\u001b[0m \u001b[32m━━━━━━━━━━━━━━━━━━━━\u001b[0m\u001b[37m\u001b[0m \u001b[1m1s\u001b[0m 2ms/step - accuracy: 0.6341 - loss: 0.6365 - val_accuracy: 0.6274 - val_loss: 0.6275\n",
      "Epoch 24/50\n",
      "\u001b[1m313/313\u001b[0m \u001b[32m━━━━━━━━━━━━━━━━━━━━\u001b[0m\u001b[37m\u001b[0m \u001b[1m0s\u001b[0m 1ms/step - accuracy: 0.6333 - loss: 0.6372 - val_accuracy: 0.6283 - val_loss: 0.6276\n",
      "Epoch 25/50\n",
      "\u001b[1m313/313\u001b[0m \u001b[32m━━━━━━━━━━━━━━━━━━━━\u001b[0m\u001b[37m\u001b[0m \u001b[1m1s\u001b[0m 2ms/step - accuracy: 0.6352 - loss: 0.6331 - val_accuracy: 0.6283 - val_loss: 0.6274\n",
      "Epoch 26/50\n",
      "\u001b[1m313/313\u001b[0m \u001b[32m━━━━━━━━━━━━━━━━━━━━\u001b[0m\u001b[37m\u001b[0m \u001b[1m1s\u001b[0m 2ms/step - accuracy: 0.6261 - loss: 0.6380 - val_accuracy: 0.6283 - val_loss: 0.6242\n",
      "Epoch 27/50\n",
      "\u001b[1m313/313\u001b[0m \u001b[32m━━━━━━━━━━━━━━━━━━━━\u001b[0m\u001b[37m\u001b[0m \u001b[1m0s\u001b[0m 2ms/step - accuracy: 0.6378 - loss: 0.6325 - val_accuracy: 0.6277 - val_loss: 0.6238\n",
      "Epoch 28/50\n",
      "\u001b[1m313/313\u001b[0m \u001b[32m━━━━━━━━━━━━━━━━━━━━\u001b[0m\u001b[37m\u001b[0m \u001b[1m0s\u001b[0m 1ms/step - accuracy: 0.6360 - loss: 0.6328 - val_accuracy: 0.6283 - val_loss: 0.6214\n",
      "Epoch 29/50\n",
      "\u001b[1m313/313\u001b[0m \u001b[32m━━━━━━━━━━━━━━━━━━━━\u001b[0m\u001b[37m\u001b[0m \u001b[1m0s\u001b[0m 2ms/step - accuracy: 0.6380 - loss: 0.6297 - val_accuracy: 0.6283 - val_loss: 0.6226\n",
      "Epoch 30/50\n",
      "\u001b[1m313/313\u001b[0m \u001b[32m━━━━━━━━━━━━━━━━━━━━\u001b[0m\u001b[37m\u001b[0m \u001b[1m0s\u001b[0m 1ms/step - accuracy: 0.6336 - loss: 0.6302 - val_accuracy: 0.6280 - val_loss: 0.6238\n",
      "Epoch 31/50\n",
      "\u001b[1m313/313\u001b[0m \u001b[32m━━━━━━━━━━━━━━━━━━━━\u001b[0m\u001b[37m\u001b[0m \u001b[1m0s\u001b[0m 1ms/step - accuracy: 0.6274 - loss: 0.6305 - val_accuracy: 0.6277 - val_loss: 0.6210\n",
      "Epoch 32/50\n",
      "\u001b[1m313/313\u001b[0m \u001b[32m━━━━━━━━━━━━━━━━━━━━\u001b[0m\u001b[37m\u001b[0m \u001b[1m1s\u001b[0m 2ms/step - accuracy: 0.6355 - loss: 0.6274 - val_accuracy: 0.6283 - val_loss: 0.6195\n",
      "Epoch 33/50\n",
      "\u001b[1m313/313\u001b[0m \u001b[32m━━━━━━━━━━━━━━━━━━━━\u001b[0m\u001b[37m\u001b[0m \u001b[1m0s\u001b[0m 1ms/step - accuracy: 0.6394 - loss: 0.6222 - val_accuracy: 0.6283 - val_loss: 0.6213\n",
      "Epoch 34/50\n",
      "\u001b[1m313/313\u001b[0m \u001b[32m━━━━━━━━━━━━━━━━━━━━\u001b[0m\u001b[37m\u001b[0m \u001b[1m0s\u001b[0m 1ms/step - accuracy: 0.6342 - loss: 0.6333 - val_accuracy: 0.6283 - val_loss: 0.6198\n",
      "Epoch 35/50\n",
      "\u001b[1m313/313\u001b[0m \u001b[32m━━━━━━━━━━━━━━━━━━━━\u001b[0m\u001b[37m\u001b[0m \u001b[1m1s\u001b[0m 2ms/step - accuracy: 0.6322 - loss: 0.6288 - val_accuracy: 0.6274 - val_loss: 0.6187\n",
      "Epoch 36/50\n",
      "\u001b[1m313/313\u001b[0m \u001b[32m━━━━━━━━━━━━━━━━━━━━\u001b[0m\u001b[37m\u001b[0m \u001b[1m0s\u001b[0m 1ms/step - accuracy: 0.6183 - loss: 0.6330 - val_accuracy: 0.6283 - val_loss: 0.6180\n",
      "Epoch 37/50\n",
      "\u001b[1m313/313\u001b[0m \u001b[32m━━━━━━━━━━━━━━━━━━━━\u001b[0m\u001b[37m\u001b[0m \u001b[1m0s\u001b[0m 1ms/step - accuracy: 0.6370 - loss: 0.6249 - val_accuracy: 0.6271 - val_loss: 0.6180\n",
      "Epoch 38/50\n",
      "\u001b[1m313/313\u001b[0m \u001b[32m━━━━━━━━━━━━━━━━━━━━\u001b[0m\u001b[37m\u001b[0m \u001b[1m0s\u001b[0m 1ms/step - accuracy: 0.6292 - loss: 0.6267 - val_accuracy: 0.6271 - val_loss: 0.6194\n",
      "Epoch 39/50\n",
      "\u001b[1m313/313\u001b[0m \u001b[32m━━━━━━━━━━━━━━━━━━━━\u001b[0m\u001b[37m\u001b[0m \u001b[1m0s\u001b[0m 1ms/step - accuracy: 0.6152 - loss: 0.6293 - val_accuracy: 0.6283 - val_loss: 0.6167\n",
      "Epoch 40/50\n",
      "\u001b[1m313/313\u001b[0m \u001b[32m━━━━━━━━━━━━━━━━━━━━\u001b[0m\u001b[37m\u001b[0m \u001b[1m0s\u001b[0m 1ms/step - accuracy: 0.6263 - loss: 0.6335 - val_accuracy: 0.6280 - val_loss: 0.6166\n",
      "Epoch 41/50\n",
      "\u001b[1m313/313\u001b[0m \u001b[32m━━━━━━━━━━━━━━━━━━━━\u001b[0m\u001b[37m\u001b[0m \u001b[1m0s\u001b[0m 1ms/step - accuracy: 0.6231 - loss: 0.6290 - val_accuracy: 0.6283 - val_loss: 0.6178\n",
      "Epoch 42/50\n",
      "\u001b[1m313/313\u001b[0m \u001b[32m━━━━━━━━━━━━━━━━━━━━\u001b[0m\u001b[37m\u001b[0m \u001b[1m0s\u001b[0m 2ms/step - accuracy: 0.6361 - loss: 0.6202 - val_accuracy: 0.6274 - val_loss: 0.6172\n",
      "Epoch 43/50\n",
      "\u001b[1m313/313\u001b[0m \u001b[32m━━━━━━━━━━━━━━━━━━━━\u001b[0m\u001b[37m\u001b[0m \u001b[1m0s\u001b[0m 1ms/step - accuracy: 0.6360 - loss: 0.6181 - val_accuracy: 0.6283 - val_loss: 0.6179\n",
      "Epoch 44/50\n",
      "\u001b[1m313/313\u001b[0m \u001b[32m━━━━━━━━━━━━━━━━━━━━\u001b[0m\u001b[37m\u001b[0m \u001b[1m0s\u001b[0m 1ms/step - accuracy: 0.6361 - loss: 0.6170 - val_accuracy: 0.6283 - val_loss: 0.6181\n",
      "Epoch 45/50\n",
      "\u001b[1m313/313\u001b[0m \u001b[32m━━━━━━━━━━━━━━━━━━━━\u001b[0m\u001b[37m\u001b[0m \u001b[1m0s\u001b[0m 1ms/step - accuracy: 0.6405 - loss: 0.6263 - val_accuracy: 0.6283 - val_loss: 0.6190\n",
      "Epoch 46/50\n",
      "\u001b[1m313/313\u001b[0m \u001b[32m━━━━━━━━━━━━━━━━━━━━\u001b[0m\u001b[37m\u001b[0m \u001b[1m0s\u001b[0m 1ms/step - accuracy: 0.6329 - loss: 0.6208 - val_accuracy: 0.6277 - val_loss: 0.6175\n",
      "Epoch 47/50\n",
      "\u001b[1m313/313\u001b[0m \u001b[32m━━━━━━━━━━━━━━━━━━━━\u001b[0m\u001b[37m\u001b[0m \u001b[1m0s\u001b[0m 1ms/step - accuracy: 0.6321 - loss: 0.6226 - val_accuracy: 0.6283 - val_loss: 0.6174\n",
      "Epoch 48/50\n",
      "\u001b[1m313/313\u001b[0m \u001b[32m━━━━━━━━━━━━━━━━━━━━\u001b[0m\u001b[37m\u001b[0m \u001b[1m0s\u001b[0m 1ms/step - accuracy: 0.6373 - loss: 0.6229 - val_accuracy: 0.6283 - val_loss: 0.6163\n",
      "Epoch 49/50\n",
      "\u001b[1m313/313\u001b[0m \u001b[32m━━━━━━━━━━━━━━━━━━━━\u001b[0m\u001b[37m\u001b[0m \u001b[1m0s\u001b[0m 1ms/step - accuracy: 0.6325 - loss: 0.6262 - val_accuracy: 0.6283 - val_loss: 0.6166\n",
      "Epoch 50/50\n",
      "\u001b[1m313/313\u001b[0m \u001b[32m━━━━━━━━━━━━━━━━━━━━\u001b[0m\u001b[37m\u001b[0m \u001b[1m0s\u001b[0m 1ms/step - accuracy: 0.6447 - loss: 0.6167 - val_accuracy: 0.6283 - val_loss: 0.6149\n"
     ]
    }
   ],
   "source": [
    "history = model.fit(x_train, y_train, validation_data=(x_cv, y_cv), epochs=50, callbacks=[early_stopping])"
   ]
  },
  {
   "cell_type": "code",
   "execution_count": 26,
   "id": "f1ef6967-ac51-41e1-9dcf-30db458fca74",
   "metadata": {},
   "outputs": [
    {
     "data": {
      "image/png": "[encoded data removed]",
      "text/plain": [
       "<Figure size 640x480 with 1 Axes>"
      ]
     },
     "metadata": {},
     "output_type": "display_data"
    }
   ],
   "source": [
    "plt.title('Loss Plot')\n",
    "plt.plot(history.history['loss'],'b', label='Training Loss')\n",
    "plt.plot(history.history['val_loss'],'r',label='Training Loss')\n",
    "plt.xlabel('Epochs')\n",
    "plt.ylabel('Loss')\n",
    "plt.legend()\n",
    "plt.show()"
   ]
  },
  {
   "cell_type": "code",
   "execution_count": 27,
   "id": "d575c3bc-b14e-4190-9b92-2f04896127a4",
   "metadata": {},
   "outputs": [],
   "source": [
    "def predict_diabetes(model, input_data):\n",
    "    # Melakukan prediksi untuk mendapatkan probabilitas risiko diabetes\n",
    "    prob = model.predict(input_data)[:, 0]  # Probabilitas kelas 0 (Negatif) atau 1 (Positif)\n",
    "\n",
    "    status = 'Positif' if prob >= 0.5 else 'Negatif' \n",
    "    \n",
    "    return status, prob[0]"
   ]
  },
  {
   "cell_type": "code",
   "execution_count": 33,
   "id": "f3e5ba8e-eda5-4db5-9b9d-4d2b4d1443bc",
   "metadata": {},
   "outputs": [
    {
     "name": "stdout",
     "output_type": "stream",
     "text": [
      "\u001b[1m1/1\u001b[0m \u001b[32m━━━━━━━━━━━━━━━━━━━━\u001b[0m\u001b[37m\u001b[0m \u001b[1m0s\u001b[0m 18ms/step\n",
      "\u001b[1m1/1\u001b[0m \u001b[32m━━━━━━━━━━━━━━━━━━━━\u001b[0m\u001b[37m\u001b[0m \u001b[1m0s\u001b[0m 18ms/step\n",
      "\u001b[1m1/1\u001b[0m \u001b[32m━━━━━━━━━━━━━━━━━━━━\u001b[0m\u001b[37m\u001b[0m \u001b[1m0s\u001b[0m 14ms/step\n",
      "\u001b[1m1/1\u001b[0m \u001b[32m━━━━━━━━━━━━━━━━━━━━\u001b[0m\u001b[37m\u001b[0m \u001b[1m0s\u001b[0m 14ms/step\n",
      "Sample 1 - Probabilitas risiko diabetes: 0.4607, Status: Negatif\n",
      "Sample 2 - Probabilitas risiko diabetes: 0.4346, Status: Negatif\n",
      "Sample 3 - Probabilitas risiko diabetes: 0.4494, Status: Negatif\n",
      "Sample 4 - Probabilitas risiko diabetes: 0.4421, Status: Negatif\n"
     ]
    }
   ],
   "source": [
    "sample_input_1 = np.array([[40.,  1.,  0.,  1.,  0.,  0., 9.]])   # Kombinasi dengan age = 12\n",
    "sample_input_2 = np.array([[24.,  0.,  1.,  1.,  0.,  0., 11.]])   # Kombinasi dengan age = 13\n",
    "sample_input_3 = np.array([[28.,  0.,  0.,  1.,  0.,  0., 11.]])   # Kombinasi dengan age = 11\n",
    "sample_input_4 = np.array([[27.,  0.,  1.,  1.,  0.,  1., 7.]])   # Kombinasi dengan age = 10\n",
    "\n",
    "# Menggunakan model untuk memprediksi\n",
    "status_1, prob_1 = predict_diabetes(model, sample_input_1)\n",
    "status_2, prob_2 = predict_diabetes(model, sample_input_2)\n",
    "status_3, prob_3 = predict_diabetes(model, sample_input_3)\n",
    "status_4, prob_4 = predict_diabetes(model, sample_input_4)\n",
    "\n",
    "# Menampilkan hasil\n",
    "print(f\"Sample 1 - Probabilitas risiko diabetes: {prob_1:.4f}, Status: {status_1}\")\n",
    "print(f\"Sample 2 - Probabilitas risiko diabetes: {prob_2:.4f}, Status: {status_2}\")\n",
    "print(f\"Sample 3 - Probabilitas risiko diabetes: {prob_3:.4f}, Status: {status_3}\")\n",
    "print(f\"Sample 4 - Probabilitas risiko diabetes: {prob_4:.4f}, Status: {status_4}\")"
   ]
  },
  {
   "cell_type": "code",
   "execution_count": 105,
   "id": "e1f4c735-b3ac-40ec-9d30-8bba95fbd771",
   "metadata": {},
   "outputs": [
    {
     "name": "stdout",
     "output_type": "stream",
     "text": [
      "Index(['Diabetes_binary', 'BMI', 'Smoker', 'PhysActivity', 'Veggies',\n",
      "       'HvyAlcoholConsump', 'Sex', 'Age'],\n",
      "      dtype='object')\n"
     ]
    }
   ],
   "source": [
    "print(df_overall.columns)"
   ]
  },
  {
   "cell_type": "code",
   "execution_count": 29,
   "id": "3cb1db0f-400b-4cdb-aeaa-a85c8463e651",
   "metadata": {},
   "outputs": [
    {
     "data": {
      "text/plain": [
       "'\\ndef asking():\\n    nama = input(\\'Masukkan Nama Anda: \\')\\n    gender = 1 if input(\\'Masukkan Jenis Kelamin Anda (L/P): \\').lower() == \\'l\\' else 0\\n    usia = int(input(\\'Masukkan Usia Anda: \\'))\\n    berat = int(input(\\'Masukkan berat badan Anda: \\'))\\n    smoke = 1 if input(\\'Apakah Anda Merokok (YA/TIDAK)? \\').lower() == \\'ya\\' else 0\\n    bloo_pr = 1 if input(\\'Tekanan Darah Anda Tinggi Atau Rendah (YA/TIDAK)? \\').lower() == \\'ya\\' else 0\\n    stroke = 1 if input(\\'Apakah Anda Memiliki Stroke (YA/TIDAK)? \\').lower() == \\'ya\\' else 0\\n    heart = 1 if input(\\'Apakah Anda Memiliki Riwayat Penyakit Jantung (YA/TIDAK)? \\').lower() == \\'ya\\' else 0\\n    colesterol = 1 if input(\\'Apakah Anda Memiliki Kolesterol (YA/TIDAK)? \\').lower() == \\'ya\\' else 0\\n    inheritance_mapping = {\\n        \"lebih dari 3\": 5,\\n        \"3 orang\": 4,\\n        \"2 orang\": 3,\\n        \"1 orang\": 2,\\n        \"tidak ada\": 1\\n    }\\n    inheritance_input = input(\\'Apakah Keluarga Anda Memiliki Riwayat Diabetes? Jika ada, berapa orang (Lebih Dari 3/3 Orang/2 Orang/1 Orang/Tidak Ada)? \\').lower()\\n    inheritance = inheritance_mapping.get(inheritance_input, 1)\\n    alcoholic = 1 if input(\\'Apakah Anda Pengkonsumsi Alkohol (YA/TIDAK)? \\').lower() == \\'ya\\' else 0\\n    fruit = 1 if input(\\'Apakah Anda Sering Mengkonsumsi Buah-Buahan (YA/TIDAK)? \\').lower() == \\'ya\\' else 0\\n    vegetable = 1 if input(\\'Apakah Anda Sering Mengkonsumsi Sayur-Sayuran (YA/TIDAK)? \\').lower() == \\'ya\\' else 0\\n    phys_acc = 1 if input(\\'Sehari-hari, apakah Anda melakukan aktivitas fisik (YA/TIDAK)? \\').lower() == \\'ya\\' else 0\\n    diffwalk = 1 if input(\\'Sehari-hari, apakah Anda ada naik kendaraan (YA/TIDAK)? \\').lower() == \\'ya\\' else 0\\n    print(f\"Nama: {nama}, Gender: {gender}, Usia: {usia},Berat: {berat}, Smoke: {smoke}, Blood Pressure: {bloo_pr}, Stroke: {stroke}, \"\\n          f\"Heart Disease: {heart}, Cholesterol: {colesterol}, Inheritance: {inheritance}, Alcoholic: {alcoholic}, \"\\n          f\"Fruit: {fruit}, Vegetable: {vegetable}, Physical Activity: {phys_acc}, Difficulty Walking: {diffwalk}\")\\n    return (bloo_pr, colesterol, berat, smoke, stroke, heart, phys_acc, fruit, vegetable, alcoholic, inheritance, diffwalk,gender)\\n'"
      ]
     },
     "execution_count": 29,
     "metadata": {},
     "output_type": "execute_result"
    }
   ],
   "source": [
    "'''\n",
    "def asking():\n",
    "    nama = input('Masukkan Nama Anda: ')\n",
    "    gender = 1 if input('Masukkan Jenis Kelamin Anda (L/P): ').lower() == 'l' else 0\n",
    "    usia = int(input('Masukkan Usia Anda: '))\n",
    "    berat = int(input('Masukkan berat badan Anda: '))\n",
    "    smoke = 1 if input('Apakah Anda Merokok (YA/TIDAK)? ').lower() == 'ya' else 0\n",
    "    bloo_pr = 1 if input('Tekanan Darah Anda Tinggi Atau Rendah (YA/TIDAK)? ').lower() == 'ya' else 0\n",
    "    stroke = 1 if input('Apakah Anda Memiliki Stroke (YA/TIDAK)? ').lower() == 'ya' else 0\n",
    "    heart = 1 if input('Apakah Anda Memiliki Riwayat Penyakit Jantung (YA/TIDAK)? ').lower() == 'ya' else 0\n",
    "    colesterol = 1 if input('Apakah Anda Memiliki Kolesterol (YA/TIDAK)? ').lower() == 'ya' else 0\n",
    "    inheritance_mapping = {\n",
    "        \"lebih dari 3\": 5,\n",
    "        \"3 orang\": 4,\n",
    "        \"2 orang\": 3,\n",
    "        \"1 orang\": 2,\n",
    "        \"tidak ada\": 1\n",
    "    }\n",
    "    inheritance_input = input('Apakah Keluarga Anda Memiliki Riwayat Diabetes? Jika ada, berapa orang (Lebih Dari 3/3 Orang/2 Orang/1 Orang/Tidak Ada)? ').lower()\n",
    "    inheritance = inheritance_mapping.get(inheritance_input, 1)\n",
    "    alcoholic = 1 if input('Apakah Anda Pengkonsumsi Alkohol (YA/TIDAK)? ').lower() == 'ya' else 0\n",
    "    fruit = 1 if input('Apakah Anda Sering Mengkonsumsi Buah-Buahan (YA/TIDAK)? ').lower() == 'ya' else 0\n",
    "    vegetable = 1 if input('Apakah Anda Sering Mengkonsumsi Sayur-Sayuran (YA/TIDAK)? ').lower() == 'ya' else 0\n",
    "    phys_acc = 1 if input('Sehari-hari, apakah Anda melakukan aktivitas fisik (YA/TIDAK)? ').lower() == 'ya' else 0\n",
    "    diffwalk = 1 if input('Sehari-hari, apakah Anda ada naik kendaraan (YA/TIDAK)? ').lower() == 'ya' else 0\n",
    "    print(f\"Nama: {nama}, Gender: {gender}, Usia: {usia},Berat: {berat}, Smoke: {smoke}, Blood Pressure: {bloo_pr}, Stroke: {stroke}, \"\n",
    "          f\"Heart Disease: {heart}, Cholesterol: {colesterol}, Inheritance: {inheritance}, Alcoholic: {alcoholic}, \"\n",
    "          f\"Fruit: {fruit}, Vegetable: {vegetable}, Physical Activity: {phys_acc}, Difficulty Walking: {diffwalk}\")\n",
    "    return (bloo_pr, colesterol, berat, smoke, stroke, heart, phys_acc, fruit, vegetable, alcoholic, inheritance, diffwalk,gender)\n",
    "'''"
   ]
  },
  {
   "cell_type": "code",
   "execution_count": 16,
   "id": "f13ac45f-38fa-4d49-a393-202da2a84a21",
   "metadata": {},
   "outputs": [
    {
     "ename": "KeyboardInterrupt",
     "evalue": "Interrupted by user",
     "output_type": "error",
     "traceback": [
      "\u001b[1;31m---------------------------------------------------------------------------\u001b[0m",
      "\u001b[1;31mKeyboardInterrupt\u001b[0m                         Traceback (most recent call last)",
      "Cell \u001b[1;32mIn[16], line 1\u001b[0m\n\u001b[1;32m----> 1\u001b[0m hasil_input \u001b[38;5;241m=\u001b[39m np\u001b[38;5;241m.\u001b[39marray(\u001b[43masking\u001b[49m\u001b[43m(\u001b[49m\u001b[43m)\u001b[49m)\u001b[38;5;241m.\u001b[39mastype(\u001b[38;5;124m'\u001b[39m\u001b[38;5;124mfloat32\u001b[39m\u001b[38;5;124m'\u001b[39m)\u001b[38;5;241m.\u001b[39mreshape(\u001b[38;5;241m1\u001b[39m, \u001b[38;5;241m-\u001b[39m\u001b[38;5;241m1\u001b[39m)\n\u001b[0;32m      2\u001b[0m \u001b[38;5;28mprint\u001b[39m(\u001b[38;5;124m\"\u001b[39m\u001b[38;5;130;01m\\n\u001b[39;00m\u001b[38;5;124mArray hasil input:\u001b[39m\u001b[38;5;130;01m\\n\u001b[39;00m\u001b[38;5;124m\"\u001b[39m, hasil_input)\n",
      "Cell \u001b[1;32mIn[15], line 2\u001b[0m, in \u001b[0;36masking\u001b[1;34m()\u001b[0m\n\u001b[0;32m      1\u001b[0m \u001b[38;5;28;01mdef\u001b[39;00m \u001b[38;5;21masking\u001b[39m():\n\u001b[1;32m----> 2\u001b[0m     nama \u001b[38;5;241m=\u001b[39m \u001b[38;5;28;43minput\u001b[39;49m\u001b[43m(\u001b[49m\u001b[38;5;124;43m'\u001b[39;49m\u001b[38;5;124;43mMasukkan Nama Anda: \u001b[39;49m\u001b[38;5;124;43m'\u001b[39;49m\u001b[43m)\u001b[49m\n\u001b[0;32m      3\u001b[0m     gender \u001b[38;5;241m=\u001b[39m \u001b[38;5;241m1\u001b[39m \u001b[38;5;28;01mif\u001b[39;00m \u001b[38;5;28minput\u001b[39m(\u001b[38;5;124m'\u001b[39m\u001b[38;5;124mMasukkan Jenis Kelamin Anda (L/P): \u001b[39m\u001b[38;5;124m'\u001b[39m)\u001b[38;5;241m.\u001b[39mlower() \u001b[38;5;241m==\u001b[39m \u001b[38;5;124m'\u001b[39m\u001b[38;5;124ml\u001b[39m\u001b[38;5;124m'\u001b[39m \u001b[38;5;28;01melse\u001b[39;00m \u001b[38;5;241m0\u001b[39m\n\u001b[0;32m      4\u001b[0m     usia \u001b[38;5;241m=\u001b[39m \u001b[38;5;28mint\u001b[39m(\u001b[38;5;28minput\u001b[39m(\u001b[38;5;124m'\u001b[39m\u001b[38;5;124mMasukkan Usia Anda: \u001b[39m\u001b[38;5;124m'\u001b[39m))\n",
      "File \u001b[1;32m~\\AppData\\Roaming\\Python\\Python312\\site-packages\\ipykernel\\kernelbase.py:1282\u001b[0m, in \u001b[0;36mKernel.raw_input\u001b[1;34m(self, prompt)\u001b[0m\n\u001b[0;32m   1280\u001b[0m     msg \u001b[38;5;241m=\u001b[39m \u001b[38;5;124m\"\u001b[39m\u001b[38;5;124mraw_input was called, but this frontend does not support input requests.\u001b[39m\u001b[38;5;124m\"\u001b[39m\n\u001b[0;32m   1281\u001b[0m     \u001b[38;5;28;01mraise\u001b[39;00m StdinNotImplementedError(msg)\n\u001b[1;32m-> 1282\u001b[0m \u001b[38;5;28;01mreturn\u001b[39;00m \u001b[38;5;28;43mself\u001b[39;49m\u001b[38;5;241;43m.\u001b[39;49m\u001b[43m_input_request\u001b[49m\u001b[43m(\u001b[49m\n\u001b[0;32m   1283\u001b[0m \u001b[43m    \u001b[49m\u001b[38;5;28;43mstr\u001b[39;49m\u001b[43m(\u001b[49m\u001b[43mprompt\u001b[49m\u001b[43m)\u001b[49m\u001b[43m,\u001b[49m\n\u001b[0;32m   1284\u001b[0m \u001b[43m    \u001b[49m\u001b[38;5;28;43mself\u001b[39;49m\u001b[38;5;241;43m.\u001b[39;49m\u001b[43m_parent_ident\u001b[49m\u001b[43m[\u001b[49m\u001b[38;5;124;43m\"\u001b[39;49m\u001b[38;5;124;43mshell\u001b[39;49m\u001b[38;5;124;43m\"\u001b[39;49m\u001b[43m]\u001b[49m\u001b[43m,\u001b[49m\n\u001b[0;32m   1285\u001b[0m \u001b[43m    \u001b[49m\u001b[38;5;28;43mself\u001b[39;49m\u001b[38;5;241;43m.\u001b[39;49m\u001b[43mget_parent\u001b[49m\u001b[43m(\u001b[49m\u001b[38;5;124;43m\"\u001b[39;49m\u001b[38;5;124;43mshell\u001b[39;49m\u001b[38;5;124;43m\"\u001b[39;49m\u001b[43m)\u001b[49m\u001b[43m,\u001b[49m\n\u001b[0;32m   1286\u001b[0m \u001b[43m    \u001b[49m\u001b[43mpassword\u001b[49m\u001b[38;5;241;43m=\u001b[39;49m\u001b[38;5;28;43;01mFalse\u001b[39;49;00m\u001b[43m,\u001b[49m\n\u001b[0;32m   1287\u001b[0m \u001b[43m\u001b[49m\u001b[43m)\u001b[49m\n",
      "File \u001b[1;32m~\\AppData\\Roaming\\Python\\Python312\\site-packages\\ipykernel\\kernelbase.py:1325\u001b[0m, in \u001b[0;36mKernel._input_request\u001b[1;34m(self, prompt, ident, parent, password)\u001b[0m\n\u001b[0;32m   1322\u001b[0m \u001b[38;5;28;01mexcept\u001b[39;00m \u001b[38;5;167;01mKeyboardInterrupt\u001b[39;00m:\n\u001b[0;32m   1323\u001b[0m     \u001b[38;5;66;03m# re-raise KeyboardInterrupt, to truncate traceback\u001b[39;00m\n\u001b[0;32m   1324\u001b[0m     msg \u001b[38;5;241m=\u001b[39m \u001b[38;5;124m\"\u001b[39m\u001b[38;5;124mInterrupted by user\u001b[39m\u001b[38;5;124m\"\u001b[39m\n\u001b[1;32m-> 1325\u001b[0m     \u001b[38;5;28;01mraise\u001b[39;00m \u001b[38;5;167;01mKeyboardInterrupt\u001b[39;00m(msg) \u001b[38;5;28;01mfrom\u001b[39;00m \u001b[38;5;28;01mNone\u001b[39;00m\n\u001b[0;32m   1326\u001b[0m \u001b[38;5;28;01mexcept\u001b[39;00m \u001b[38;5;167;01mException\u001b[39;00m:\n\u001b[0;32m   1327\u001b[0m     \u001b[38;5;28mself\u001b[39m\u001b[38;5;241m.\u001b[39mlog\u001b[38;5;241m.\u001b[39mwarning(\u001b[38;5;124m\"\u001b[39m\u001b[38;5;124mInvalid Message:\u001b[39m\u001b[38;5;124m\"\u001b[39m, exc_info\u001b[38;5;241m=\u001b[39m\u001b[38;5;28;01mTrue\u001b[39;00m)\n",
      "\u001b[1;31mKeyboardInterrupt\u001b[0m: Interrupted by user"
     ]
    }
   ],
   "source": [
    "'''\n",
    "hasil_input = np.array(asking()).astype('float32').reshape(1, -1)\n",
    "print(\"\\nArray hasil input:\\n\", hasil_input)\n",
    "'''"
   ]
  },
  {
   "cell_type": "code",
   "execution_count": null,
   "id": "c0721c25-1909-44da-b4f5-d30b0095d50d",
   "metadata": {},
   "outputs": [],
   "source": [
    "prediction = model.predict([])\n",
    "predicted_prob = prediction[0]\n",
    "\n",
    "if predicted_prob[0] >= 0.5:\n",
    "    diagnosis = \"Diabetes\"\n",
    "else:\n",
    "    diagnosis = \"Tidak Diabetes\"\n",
    "\n",
    "print(\"Hasil Prediksi:\", diagnosis)"
   ]
  },
  {
   "cell_type": "code",
   "execution_count": null,
   "id": "ec104efd-221f-4da1-8c49-25396bf280e0",
   "metadata": {},
   "outputs": [],
   "source": []
  }
 ],
 "metadata": {
  "kernelspec": {
   "display_name": "Python 3 (ipykernel)",
   "language": "python",
   "name": "python3"
  },
  "language_info": {
   "codemirror_mode": {
    "name": "ipython",
    "version": 3
   },
   "file_extension": ".py",
   "mimetype": "text/x-python",
   "name": "python",
   "nbconvert_exporter": "python",
   "pygments_lexer": "ipython3",
   "version": "3.12.1"
  }
 },
 "nbformat": 4,
 "nbformat_minor": 5
}
